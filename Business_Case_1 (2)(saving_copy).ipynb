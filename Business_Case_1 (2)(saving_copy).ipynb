{
  "cells": [
    {
      "cell_type": "markdown",
      "metadata": {
        "id": "ZkiMTzEQRGNG"
      },
      "source": [
        "# Imports <a class=\"anchor\"><a id='Imports'></a></b><br>"
      ]
    },
    {
      "cell_type": "code",
      "execution_count": null,
      "metadata": {
        "id": "HNhDIQ4EvYNJ"
      },
      "outputs": [],
      "source": [
        "#Imports of Libaries\n",
        "\n",
        "import pandas as pd\n",
        "import numpy as np\n",
        "import matplotlib.pyplot as plt\n",
        "import seaborn as sns\n",
        "import statistics\n",
        "import sqlite3\n",
        "import os\n",
        "from math import ceil\n",
        "from datetime import datetime\n",
        "from itertools import product\n",
        "import warnings\n",
        "import missingno as mno\n",
        "from sklearn.impute import KNNImputer\n",
        "from sklearn.preprocessing import StandardScaler\n",
        "from sklearn.metrics import silhouette_score\n",
        "from yellowbrick.cluster import SilhouetteVisualizer\n",
        "from pickle import dump\n",
        "from sklearn.decomposition import PCA\n",
        "from sklearn.ensemble import ExtraTreesClassifier\n",
        "from sklearn.linear_model import LinearRegression\n",
        "from sklearn.feature_selection import RFE\n",
        "from sklearn.model_selection import train_test_split\n",
        "from sklearn.linear_model import LassoCV\n",
        "from sklearn.linear_model import RidgeCV\n",
        "from sklearn import preprocessing\n",
        "from sklearn.preprocessing import MinMaxScaler, StandardScaler, OneHotEncoder\n",
        "from sklearn.linear_model import LogisticRegression\n",
        "from yellowbrick.cluster import KElbowVisualizer\n",
        "from matplotlib import ticker\n",
        "from yellowbrick.cluster import SilhouetteVisualizer\n",
        "from yellowbrick.cluster import InterclusterDistance\n",
        "\n",
        "\n",
        "\n",
        "%matplotlib inline\n",
        "\n",
        "import matplotlib.pyplot as plt\n",
        "import seaborn as sns\n",
        "import plotly.express as px\n",
        "\n",
        "from sklearn.cluster import KMeans\n",
        "from sklearn.preprocessing import OneHotEncoder\n",
        "from sklearn.compose import make_column_transformer\n",
        "from sklearn.decomposition import PCA\n"
      ]
    },
    {
      "cell_type": "code",
      "execution_count": null,
      "metadata": {
        "colab": {
          "base_uri": "https://localhost:8080/"
        },
        "id": "-9_aMO-MODrU",
        "outputId": "8b78aa8d-052d-47f0-974a-bf5a0865c9b4"
      },
      "outputs": [
        {
          "output_type": "stream",
          "name": "stdout",
          "text": [
            "Drive already mounted at /content/drive; to attempt to forcibly remount, call drive.mount(\"/content/drive\", force_remount=True).\n"
          ]
        }
      ],
      "source": [
        "from google.colab import drive\n",
        "drive.mount('/content/drive')"
      ]
    },
    {
      "cell_type": "markdown",
      "metadata": {
        "id": "R25KExd5zdim"
      },
      "source": [
        "# Data Importation and Regulaization <a class=\"anchor\"><a id='Imp'></a></b><br>"
      ]
    },
    {
      "cell_type": "code",
      "execution_count": null,
      "metadata": {
        "colab": {
          "base_uri": "https://localhost:8080/"
        },
        "id": "WaZXjkDnvQYd",
        "outputId": "60dd335c-773d-4208-bd92-f26b653689df"
      },
      "outputs": [
        {
          "output_type": "stream",
          "name": "stdout",
          "text": [
            "<class 'pandas.core.frame.DataFrame'>\n",
            "RangeIndex: 111733 entries, 0 to 111732\n",
            "Data columns (total 1 columns):\n",
            " #   Column                                                                                                                                                                                                                                                                                                                                                                                         Non-Null Count   Dtype \n",
            "---  ------                                                                                                                                                                                                                                                                                                                                                                                         --------------   ----- \n",
            " 0   ID;Nationality;Age;DaysSinceCreation;NameHash;DocIDHash;AverageLeadTime;LodgingRevenue;OtherRevenue;BookingsCanceled;BookingsNoShowed;BookingsCheckedIn;PersonsNights;RoomNights;DistributionChannel;MarketSegment;SRHighFloor;SRLowFloor;SRAccessibleRoom;SRMediumFloor;SRBathtub;SRShower;SRCrib;SRKingSizeBed;SRTwinBed;SRNearElevator;SRAwayFromElevator;SRNoAlcoholInMiniBar;SRQuietRoom  111733 non-null  object\n",
            "dtypes: object(1)\n",
            "memory usage: 873.0+ KB\n"
          ]
        }
      ],
      "source": [
        "#Importing data from CSV\n",
        "\n",
        "#df = pd.read_csv('/content/drive/MyDrive/all tutorials/Case1_HotelCustomerSegmentation.csv')\n",
        "df = pd.read_csv('/content/Case1_HotelCustomerSegmentation.csv')\n",
        "# Load data\n",
        "#df = pd.read_csv('/kaggle/input/wali-3/Case1_HotelCustomerSegmentation.csv', sep=\";\")\n",
        "df.info()"
      ]
    },
    {
      "cell_type": "code",
      "execution_count": null,
      "metadata": {
        "colab": {
          "base_uri": "https://localhost:8080/"
        },
        "id": "rdxtCiTIveNB",
        "outputId": "e75c6158-806c-4a1f-ddfa-7f171f67c9e2"
      },
      "outputs": [
        {
          "output_type": "execute_result",
          "data": {
            "text/plain": [
              "(111733, 1)"
            ]
          },
          "metadata": {},
          "execution_count": 86
        }
      ],
      "source": [
        "#Visualisation of the Inital data shape\n",
        "\n",
        "df.shape"
      ]
    },
    {
      "cell_type": "code",
      "execution_count": null,
      "metadata": {
        "colab": {
          "base_uri": "https://localhost:8080/"
        },
        "id": "wDMFTZ7wv7xq",
        "outputId": "fbd01615-5cca-4cb8-d631-6a3f11cb4e8a"
      },
      "outputs": [
        {
          "output_type": "execute_result",
          "data": {
            "text/plain": [
              "  ID;Nationality;Age;DaysSinceCreation;NameHash;DocIDHash;AverageLeadTime;LodgingRevenue;OtherRevenue;BookingsCanceled;BookingsNoShowed;BookingsCheckedIn;PersonsNights;RoomNights;DistributionChannel;MarketSegment;SRHighFloor;SRLowFloor;SRAccessibleRoom;SRMediumFloor;SRBathtub;SRShower;SRCrib;SRKingSizeBed;SRTwinBed;SRNearElevator;SRAwayFromElevator;SRNoAlcoholInMiniBar;SRQuietRoom\n",
              "0  1;PRT;52;440;0x2C371FD6CE12936774A139FD7430C62...                                                                                                                                                                                                                                                                                                                                           \n",
              "1  2;PRT;NULL;1385;0x198CDB98BF37B6E23F9548C56A88...                                                                                                                                                                                                                                                                                                                                           \n",
              "2  3;DEU;32;1385;0xDA46E62F66936284DF2844EC4FC542...                                                                                                                                                                                                                                                                                                                                           \n",
              "3  4;FRA;61;1385;0xC45D4CD22C58FDC5FD0F95315F6EFA...                                                                                                                                                                                                                                                                                                                                           \n",
              "4  5;FRA;52;1385;0xD2E3D5BFCA141865669F98D64CDA85...                                                                                                                                                                                                                                                                                                                                           "
            ],
            "text/html": [
              "\n",
              "  <div id=\"df-163f95c8-eaf5-4129-ae97-f735c35b0fdb\" class=\"colab-df-container\">\n",
              "    <div>\n",
              "<style scoped>\n",
              "    .dataframe tbody tr th:only-of-type {\n",
              "        vertical-align: middle;\n",
              "    }\n",
              "\n",
              "    .dataframe tbody tr th {\n",
              "        vertical-align: top;\n",
              "    }\n",
              "\n",
              "    .dataframe thead th {\n",
              "        text-align: right;\n",
              "    }\n",
              "</style>\n",
              "<table border=\"1\" class=\"dataframe\">\n",
              "  <thead>\n",
              "    <tr style=\"text-align: right;\">\n",
              "      <th></th>\n",
              "      <th>ID;Nationality;Age;DaysSinceCreation;NameHash;DocIDHash;AverageLeadTime;LodgingRevenue;OtherRevenue;BookingsCanceled;BookingsNoShowed;BookingsCheckedIn;PersonsNights;RoomNights;DistributionChannel;MarketSegment;SRHighFloor;SRLowFloor;SRAccessibleRoom;SRMediumFloor;SRBathtub;SRShower;SRCrib;SRKingSizeBed;SRTwinBed;SRNearElevator;SRAwayFromElevator;SRNoAlcoholInMiniBar;SRQuietRoom</th>\n",
              "    </tr>\n",
              "  </thead>\n",
              "  <tbody>\n",
              "    <tr>\n",
              "      <th>0</th>\n",
              "      <td>1;PRT;52;440;0x2C371FD6CE12936774A139FD7430C62...</td>\n",
              "    </tr>\n",
              "    <tr>\n",
              "      <th>1</th>\n",
              "      <td>2;PRT;NULL;1385;0x198CDB98BF37B6E23F9548C56A88...</td>\n",
              "    </tr>\n",
              "    <tr>\n",
              "      <th>2</th>\n",
              "      <td>3;DEU;32;1385;0xDA46E62F66936284DF2844EC4FC542...</td>\n",
              "    </tr>\n",
              "    <tr>\n",
              "      <th>3</th>\n",
              "      <td>4;FRA;61;1385;0xC45D4CD22C58FDC5FD0F95315F6EFA...</td>\n",
              "    </tr>\n",
              "    <tr>\n",
              "      <th>4</th>\n",
              "      <td>5;FRA;52;1385;0xD2E3D5BFCA141865669F98D64CDA85...</td>\n",
              "    </tr>\n",
              "  </tbody>\n",
              "</table>\n",
              "</div>\n",
              "    <div class=\"colab-df-buttons\">\n",
              "\n",
              "  <div class=\"colab-df-container\">\n",
              "    <button class=\"colab-df-convert\" onclick=\"convertToInteractive('df-163f95c8-eaf5-4129-ae97-f735c35b0fdb')\"\n",
              "            title=\"Convert this dataframe to an interactive table.\"\n",
              "            style=\"display:none;\">\n",
              "\n",
              "  <svg xmlns=\"http://www.w3.org/2000/svg\" height=\"24px\" viewBox=\"0 -960 960 960\">\n",
              "    <path d=\"M120-120v-720h720v720H120Zm60-500h600v-160H180v160Zm220 220h160v-160H400v160Zm0 220h160v-160H400v160ZM180-400h160v-160H180v160Zm440 0h160v-160H620v160ZM180-180h160v-160H180v160Zm440 0h160v-160H620v160Z\"/>\n",
              "  </svg>\n",
              "    </button>\n",
              "\n",
              "  <style>\n",
              "    .colab-df-container {\n",
              "      display:flex;\n",
              "      gap: 12px;\n",
              "    }\n",
              "\n",
              "    .colab-df-convert {\n",
              "      background-color: #E8F0FE;\n",
              "      border: none;\n",
              "      border-radius: 50%;\n",
              "      cursor: pointer;\n",
              "      display: none;\n",
              "      fill: #1967D2;\n",
              "      height: 32px;\n",
              "      padding: 0 0 0 0;\n",
              "      width: 32px;\n",
              "    }\n",
              "\n",
              "    .colab-df-convert:hover {\n",
              "      background-color: #E2EBFA;\n",
              "      box-shadow: 0px 1px 2px rgba(60, 64, 67, 0.3), 0px 1px 3px 1px rgba(60, 64, 67, 0.15);\n",
              "      fill: #174EA6;\n",
              "    }\n",
              "\n",
              "    .colab-df-buttons div {\n",
              "      margin-bottom: 4px;\n",
              "    }\n",
              "\n",
              "    [theme=dark] .colab-df-convert {\n",
              "      background-color: #3B4455;\n",
              "      fill: #D2E3FC;\n",
              "    }\n",
              "\n",
              "    [theme=dark] .colab-df-convert:hover {\n",
              "      background-color: #434B5C;\n",
              "      box-shadow: 0px 1px 3px 1px rgba(0, 0, 0, 0.15);\n",
              "      filter: drop-shadow(0px 1px 2px rgba(0, 0, 0, 0.3));\n",
              "      fill: #FFFFFF;\n",
              "    }\n",
              "  </style>\n",
              "\n",
              "    <script>\n",
              "      const buttonEl =\n",
              "        document.querySelector('#df-163f95c8-eaf5-4129-ae97-f735c35b0fdb button.colab-df-convert');\n",
              "      buttonEl.style.display =\n",
              "        google.colab.kernel.accessAllowed ? 'block' : 'none';\n",
              "\n",
              "      async function convertToInteractive(key) {\n",
              "        const element = document.querySelector('#df-163f95c8-eaf5-4129-ae97-f735c35b0fdb');\n",
              "        const dataTable =\n",
              "          await google.colab.kernel.invokeFunction('convertToInteractive',\n",
              "                                                    [key], {});\n",
              "        if (!dataTable) return;\n",
              "\n",
              "        const docLinkHtml = 'Like what you see? Visit the ' +\n",
              "          '<a target=\"_blank\" href=https://colab.research.google.com/notebooks/data_table.ipynb>data table notebook</a>'\n",
              "          + ' to learn more about interactive tables.';\n",
              "        element.innerHTML = '';\n",
              "        dataTable['output_type'] = 'display_data';\n",
              "        await google.colab.output.renderOutput(dataTable, element);\n",
              "        const docLink = document.createElement('div');\n",
              "        docLink.innerHTML = docLinkHtml;\n",
              "        element.appendChild(docLink);\n",
              "      }\n",
              "    </script>\n",
              "  </div>\n",
              "\n",
              "\n",
              "<div id=\"df-62b872be-fa2b-4aba-bd37-ed23eb5b7ed6\">\n",
              "  <button class=\"colab-df-quickchart\" onclick=\"quickchart('df-62b872be-fa2b-4aba-bd37-ed23eb5b7ed6')\"\n",
              "            title=\"Suggest charts\"\n",
              "            style=\"display:none;\">\n",
              "\n",
              "<svg xmlns=\"http://www.w3.org/2000/svg\" height=\"24px\"viewBox=\"0 0 24 24\"\n",
              "     width=\"24px\">\n",
              "    <g>\n",
              "        <path d=\"M19 3H5c-1.1 0-2 .9-2 2v14c0 1.1.9 2 2 2h14c1.1 0 2-.9 2-2V5c0-1.1-.9-2-2-2zM9 17H7v-7h2v7zm4 0h-2V7h2v10zm4 0h-2v-4h2v4z\"/>\n",
              "    </g>\n",
              "</svg>\n",
              "  </button>\n",
              "\n",
              "<style>\n",
              "  .colab-df-quickchart {\n",
              "      --bg-color: #E8F0FE;\n",
              "      --fill-color: #1967D2;\n",
              "      --hover-bg-color: #E2EBFA;\n",
              "      --hover-fill-color: #174EA6;\n",
              "      --disabled-fill-color: #AAA;\n",
              "      --disabled-bg-color: #DDD;\n",
              "  }\n",
              "\n",
              "  [theme=dark] .colab-df-quickchart {\n",
              "      --bg-color: #3B4455;\n",
              "      --fill-color: #D2E3FC;\n",
              "      --hover-bg-color: #434B5C;\n",
              "      --hover-fill-color: #FFFFFF;\n",
              "      --disabled-bg-color: #3B4455;\n",
              "      --disabled-fill-color: #666;\n",
              "  }\n",
              "\n",
              "  .colab-df-quickchart {\n",
              "    background-color: var(--bg-color);\n",
              "    border: none;\n",
              "    border-radius: 50%;\n",
              "    cursor: pointer;\n",
              "    display: none;\n",
              "    fill: var(--fill-color);\n",
              "    height: 32px;\n",
              "    padding: 0;\n",
              "    width: 32px;\n",
              "  }\n",
              "\n",
              "  .colab-df-quickchart:hover {\n",
              "    background-color: var(--hover-bg-color);\n",
              "    box-shadow: 0 1px 2px rgba(60, 64, 67, 0.3), 0 1px 3px 1px rgba(60, 64, 67, 0.15);\n",
              "    fill: var(--button-hover-fill-color);\n",
              "  }\n",
              "\n",
              "  .colab-df-quickchart-complete:disabled,\n",
              "  .colab-df-quickchart-complete:disabled:hover {\n",
              "    background-color: var(--disabled-bg-color);\n",
              "    fill: var(--disabled-fill-color);\n",
              "    box-shadow: none;\n",
              "  }\n",
              "\n",
              "  .colab-df-spinner {\n",
              "    border: 2px solid var(--fill-color);\n",
              "    border-color: transparent;\n",
              "    border-bottom-color: var(--fill-color);\n",
              "    animation:\n",
              "      spin 1s steps(1) infinite;\n",
              "  }\n",
              "\n",
              "  @keyframes spin {\n",
              "    0% {\n",
              "      border-color: transparent;\n",
              "      border-bottom-color: var(--fill-color);\n",
              "      border-left-color: var(--fill-color);\n",
              "    }\n",
              "    20% {\n",
              "      border-color: transparent;\n",
              "      border-left-color: var(--fill-color);\n",
              "      border-top-color: var(--fill-color);\n",
              "    }\n",
              "    30% {\n",
              "      border-color: transparent;\n",
              "      border-left-color: var(--fill-color);\n",
              "      border-top-color: var(--fill-color);\n",
              "      border-right-color: var(--fill-color);\n",
              "    }\n",
              "    40% {\n",
              "      border-color: transparent;\n",
              "      border-right-color: var(--fill-color);\n",
              "      border-top-color: var(--fill-color);\n",
              "    }\n",
              "    60% {\n",
              "      border-color: transparent;\n",
              "      border-right-color: var(--fill-color);\n",
              "    }\n",
              "    80% {\n",
              "      border-color: transparent;\n",
              "      border-right-color: var(--fill-color);\n",
              "      border-bottom-color: var(--fill-color);\n",
              "    }\n",
              "    90% {\n",
              "      border-color: transparent;\n",
              "      border-bottom-color: var(--fill-color);\n",
              "    }\n",
              "  }\n",
              "</style>\n",
              "\n",
              "  <script>\n",
              "    async function quickchart(key) {\n",
              "      const quickchartButtonEl =\n",
              "        document.querySelector('#' + key + ' button');\n",
              "      quickchartButtonEl.disabled = true;  // To prevent multiple clicks.\n",
              "      quickchartButtonEl.classList.add('colab-df-spinner');\n",
              "      try {\n",
              "        const charts = await google.colab.kernel.invokeFunction(\n",
              "            'suggestCharts', [key], {});\n",
              "      } catch (error) {\n",
              "        console.error('Error during call to suggestCharts:', error);\n",
              "      }\n",
              "      quickchartButtonEl.classList.remove('colab-df-spinner');\n",
              "      quickchartButtonEl.classList.add('colab-df-quickchart-complete');\n",
              "    }\n",
              "    (() => {\n",
              "      let quickchartButtonEl =\n",
              "        document.querySelector('#df-62b872be-fa2b-4aba-bd37-ed23eb5b7ed6 button');\n",
              "      quickchartButtonEl.style.display =\n",
              "        google.colab.kernel.accessAllowed ? 'block' : 'none';\n",
              "    })();\n",
              "  </script>\n",
              "</div>\n",
              "    </div>\n",
              "  </div>\n"
            ],
            "application/vnd.google.colaboratory.intrinsic+json": {
              "type": "dataframe",
              "variable_name": "df"
            }
          },
          "metadata": {},
          "execution_count": 87
        }
      ],
      "source": [
        "#Visualiasation of the first 5 rows, in order to get a sense of the whats up with the data\n",
        "\n",
        "df.head()"
      ]
    },
    {
      "cell_type": "code",
      "execution_count": null,
      "metadata": {
        "colab": {
          "base_uri": "https://localhost:8080/"
        },
        "id": "zMtvv_doxliP",
        "outputId": "6c04be56-8638-49c8-9641-34f704ee7b8a"
      },
      "outputs": [
        {
          "output_type": "stream",
          "name": "stderr",
          "text": [
            "<ipython-input-88-5b66c1bc5ff0>:6: FutureWarning:\n",
            "\n",
            "The error_bad_lines argument has been deprecated and will be removed in a future version. Use on_bad_lines in the future.\n",
            "\n",
            "\n",
            "\n"
          ]
        },
        {
          "output_type": "stream",
          "name": "stdout",
          "text": [
            "   ID Nationality   Age  DaysSinceCreation  \\\n",
            "0   1         PRT  52.0                440   \n",
            "1   2         PRT   NaN               1385   \n",
            "2   3         DEU  32.0               1385   \n",
            "3   4         FRA  61.0               1385   \n",
            "4   5         FRA  52.0               1385   \n",
            "\n",
            "                                            NameHash  \\\n",
            "0  0x2C371FD6CE12936774A139FD7430C624F1C4D5109CE6...   \n",
            "1  0x198CDB98BF37B6E23F9548C56A88B00912D65A9AA0D6...   \n",
            "2  0xDA46E62F66936284DF2844EC4FC542D0DAD780C0EE0C...   \n",
            "3  0xC45D4CD22C58FDC5FD0F95315F6EFA5A6E7149187D49...   \n",
            "4  0xD2E3D5BFCA141865669F98D64CDA85AD04DEFF47F8A0...   \n",
            "\n",
            "                                           DocIDHash  AverageLeadTime  \\\n",
            "0  0x434FD3D59469C73AFEA087017FAF8CA2296493AEABDE...               59   \n",
            "1  0xE3B0C44298FC1C149AFBF4C8996FB92427AE41E4649B...               61   \n",
            "2  0x27F5DF762CCDA622C752CCDA45794923BED9F1B66300...                0   \n",
            "3  0x8E59572913BB9B1E6CAA12FA2C8B7BF387B1D1F3432E...               93   \n",
            "4  0x42BDEE0E05A9441C94147076EDDCC47E604DA5447DD4...                0   \n",
            "\n",
            "   LodgingRevenue  OtherRevenue  BookingsCanceled  ...  SRMediumFloor  \\\n",
            "0           292.0          82.3                 1  ...              0   \n",
            "1           280.0          53.0                 0  ...              0   \n",
            "2             0.0           0.0                 0  ...              0   \n",
            "3           240.0          60.0                 0  ...              0   \n",
            "4             0.0           0.0                 0  ...              0   \n",
            "\n",
            "   SRBathtub  SRShower  SRCrib SRKingSizeBed SRTwinBed  SRNearElevator  \\\n",
            "0          0         0       0             0         0               0   \n",
            "1          0         0       0             0         0               0   \n",
            "2          0         0       0             0         0               0   \n",
            "3          0         0       0             0         0               0   \n",
            "4          0         0       0             0         0               0   \n",
            "\n",
            "   SRAwayFromElevator  SRNoAlcoholInMiniBar  SRQuietRoom  \n",
            "0                   0                     0            0  \n",
            "1                   0                     0            0  \n",
            "2                   0                     0            0  \n",
            "3                   0                     0            0  \n",
            "4                   0                     0            0  \n",
            "\n",
            "[5 rows x 29 columns]\n"
          ]
        }
      ],
      "source": [
        "#Fixing columns problem (iregularites using the \";\" as a delimiter to separate data into the intended columns)\n",
        "\n",
        "#file_path = '/content/drive/MyDrive/all tutorials/Case1_HotelCustomerSegmentation.csv' <--- I made this so yoou dont have to constantly change it Mohammad\n",
        "file_path = '/content/Case1_HotelCustomerSegmentation.csv'  # Replace with your actual file path\n",
        "try:\n",
        "    df = pd.read_csv(file_path, sep=\";\", engine='python', error_bad_lines=False)\n",
        "    print(df.head())\n",
        "except pd.errors.ParserError as e:\n",
        "    print(f\"Error parsing file: {e}\")"
      ]
    },
    {
      "cell_type": "code",
      "execution_count": null,
      "metadata": {
        "id": "3qOelV20xcRr"
      },
      "outputs": [],
      "source": [
        "#reassign the column names\n",
        "\n",
        "column_names = [\n",
        "    \"ID\", \"Nationality\", \"Age\", \"DaysSinceCreation\", \"NameHash\", \"DocIDHash\",\n",
        "    \"AverageLeadTime\", \"LodgingRevenue\", \"OtherRevenue\", \"BookingsCanceled\",\n",
        "    \"BookingsNoShowed\", \"BookingsCheckedIn\", \"PersonsNights\", \"RoomNights\",\n",
        "    \"DistributionChannel\", \"MarketSegment\", \"SRHighFloor\", \"SRLowFloor\",\n",
        "    \"SRAccessibleRoom\", \"SRMediumFloor\", \"SRBathtub\", \"SRShower\", \"SRCrib\",\n",
        "    \"SRKingSizeBed\", \"SRTwinBed\", \"SRNearElevator\", \"SRAwayFromElevator\",\n",
        "    \"SRNoAlcoholInMiniBar\", \"SRQuietRoom\"\n",
        "]\n",
        "df.columns = column_names"
      ]
    },
    {
      "cell_type": "code",
      "execution_count": null,
      "metadata": {
        "colab": {
          "base_uri": "https://localhost:8080/"
        },
        "id": "odpCpDFryigG",
        "outputId": "aaf9d594-2147-4a52-b08d-64e8f51b8b78"
      },
      "outputs": [
        {
          "output_type": "execute_result",
          "data": {
            "text/plain": [
              "   ID Nationality   Age  DaysSinceCreation  \\\n",
              "0   1         PRT  52.0                440   \n",
              "1   2         PRT   NaN               1385   \n",
              "2   3         DEU  32.0               1385   \n",
              "3   4         FRA  61.0               1385   \n",
              "4   5         FRA  52.0               1385   \n",
              "\n",
              "                                            NameHash  \\\n",
              "0  0x2C371FD6CE12936774A139FD7430C624F1C4D5109CE6...   \n",
              "1  0x198CDB98BF37B6E23F9548C56A88B00912D65A9AA0D6...   \n",
              "2  0xDA46E62F66936284DF2844EC4FC542D0DAD780C0EE0C...   \n",
              "3  0xC45D4CD22C58FDC5FD0F95315F6EFA5A6E7149187D49...   \n",
              "4  0xD2E3D5BFCA141865669F98D64CDA85AD04DEFF47F8A0...   \n",
              "\n",
              "                                           DocIDHash  AverageLeadTime  \\\n",
              "0  0x434FD3D59469C73AFEA087017FAF8CA2296493AEABDE...               59   \n",
              "1  0xE3B0C44298FC1C149AFBF4C8996FB92427AE41E4649B...               61   \n",
              "2  0x27F5DF762CCDA622C752CCDA45794923BED9F1B66300...                0   \n",
              "3  0x8E59572913BB9B1E6CAA12FA2C8B7BF387B1D1F3432E...               93   \n",
              "4  0x42BDEE0E05A9441C94147076EDDCC47E604DA5447DD4...                0   \n",
              "\n",
              "   LodgingRevenue  OtherRevenue  BookingsCanceled  ...  SRMediumFloor  \\\n",
              "0           292.0          82.3                 1  ...              0   \n",
              "1           280.0          53.0                 0  ...              0   \n",
              "2             0.0           0.0                 0  ...              0   \n",
              "3           240.0          60.0                 0  ...              0   \n",
              "4             0.0           0.0                 0  ...              0   \n",
              "\n",
              "   SRBathtub  SRShower  SRCrib SRKingSizeBed SRTwinBed  SRNearElevator  \\\n",
              "0          0         0       0             0         0               0   \n",
              "1          0         0       0             0         0               0   \n",
              "2          0         0       0             0         0               0   \n",
              "3          0         0       0             0         0               0   \n",
              "4          0         0       0             0         0               0   \n",
              "\n",
              "   SRAwayFromElevator  SRNoAlcoholInMiniBar  SRQuietRoom  \n",
              "0                   0                     0            0  \n",
              "1                   0                     0            0  \n",
              "2                   0                     0            0  \n",
              "3                   0                     0            0  \n",
              "4                   0                     0            0  \n",
              "\n",
              "[5 rows x 29 columns]"
            ],
            "text/html": [
              "\n",
              "  <div id=\"df-a3589942-d052-4f3e-9b99-62a17980627a\" class=\"colab-df-container\">\n",
              "    <div>\n",
              "<style scoped>\n",
              "    .dataframe tbody tr th:only-of-type {\n",
              "        vertical-align: middle;\n",
              "    }\n",
              "\n",
              "    .dataframe tbody tr th {\n",
              "        vertical-align: top;\n",
              "    }\n",
              "\n",
              "    .dataframe thead th {\n",
              "        text-align: right;\n",
              "    }\n",
              "</style>\n",
              "<table border=\"1\" class=\"dataframe\">\n",
              "  <thead>\n",
              "    <tr style=\"text-align: right;\">\n",
              "      <th></th>\n",
              "      <th>ID</th>\n",
              "      <th>Nationality</th>\n",
              "      <th>Age</th>\n",
              "      <th>DaysSinceCreation</th>\n",
              "      <th>NameHash</th>\n",
              "      <th>DocIDHash</th>\n",
              "      <th>AverageLeadTime</th>\n",
              "      <th>LodgingRevenue</th>\n",
              "      <th>OtherRevenue</th>\n",
              "      <th>BookingsCanceled</th>\n",
              "      <th>...</th>\n",
              "      <th>SRMediumFloor</th>\n",
              "      <th>SRBathtub</th>\n",
              "      <th>SRShower</th>\n",
              "      <th>SRCrib</th>\n",
              "      <th>SRKingSizeBed</th>\n",
              "      <th>SRTwinBed</th>\n",
              "      <th>SRNearElevator</th>\n",
              "      <th>SRAwayFromElevator</th>\n",
              "      <th>SRNoAlcoholInMiniBar</th>\n",
              "      <th>SRQuietRoom</th>\n",
              "    </tr>\n",
              "  </thead>\n",
              "  <tbody>\n",
              "    <tr>\n",
              "      <th>0</th>\n",
              "      <td>1</td>\n",
              "      <td>PRT</td>\n",
              "      <td>52.0</td>\n",
              "      <td>440</td>\n",
              "      <td>0x2C371FD6CE12936774A139FD7430C624F1C4D5109CE6...</td>\n",
              "      <td>0x434FD3D59469C73AFEA087017FAF8CA2296493AEABDE...</td>\n",
              "      <td>59</td>\n",
              "      <td>292.0</td>\n",
              "      <td>82.3</td>\n",
              "      <td>1</td>\n",
              "      <td>...</td>\n",
              "      <td>0</td>\n",
              "      <td>0</td>\n",
              "      <td>0</td>\n",
              "      <td>0</td>\n",
              "      <td>0</td>\n",
              "      <td>0</td>\n",
              "      <td>0</td>\n",
              "      <td>0</td>\n",
              "      <td>0</td>\n",
              "      <td>0</td>\n",
              "    </tr>\n",
              "    <tr>\n",
              "      <th>1</th>\n",
              "      <td>2</td>\n",
              "      <td>PRT</td>\n",
              "      <td>NaN</td>\n",
              "      <td>1385</td>\n",
              "      <td>0x198CDB98BF37B6E23F9548C56A88B00912D65A9AA0D6...</td>\n",
              "      <td>0xE3B0C44298FC1C149AFBF4C8996FB92427AE41E4649B...</td>\n",
              "      <td>61</td>\n",
              "      <td>280.0</td>\n",
              "      <td>53.0</td>\n",
              "      <td>0</td>\n",
              "      <td>...</td>\n",
              "      <td>0</td>\n",
              "      <td>0</td>\n",
              "      <td>0</td>\n",
              "      <td>0</td>\n",
              "      <td>0</td>\n",
              "      <td>0</td>\n",
              "      <td>0</td>\n",
              "      <td>0</td>\n",
              "      <td>0</td>\n",
              "      <td>0</td>\n",
              "    </tr>\n",
              "    <tr>\n",
              "      <th>2</th>\n",
              "      <td>3</td>\n",
              "      <td>DEU</td>\n",
              "      <td>32.0</td>\n",
              "      <td>1385</td>\n",
              "      <td>0xDA46E62F66936284DF2844EC4FC542D0DAD780C0EE0C...</td>\n",
              "      <td>0x27F5DF762CCDA622C752CCDA45794923BED9F1B66300...</td>\n",
              "      <td>0</td>\n",
              "      <td>0.0</td>\n",
              "      <td>0.0</td>\n",
              "      <td>0</td>\n",
              "      <td>...</td>\n",
              "      <td>0</td>\n",
              "      <td>0</td>\n",
              "      <td>0</td>\n",
              "      <td>0</td>\n",
              "      <td>0</td>\n",
              "      <td>0</td>\n",
              "      <td>0</td>\n",
              "      <td>0</td>\n",
              "      <td>0</td>\n",
              "      <td>0</td>\n",
              "    </tr>\n",
              "    <tr>\n",
              "      <th>3</th>\n",
              "      <td>4</td>\n",
              "      <td>FRA</td>\n",
              "      <td>61.0</td>\n",
              "      <td>1385</td>\n",
              "      <td>0xC45D4CD22C58FDC5FD0F95315F6EFA5A6E7149187D49...</td>\n",
              "      <td>0x8E59572913BB9B1E6CAA12FA2C8B7BF387B1D1F3432E...</td>\n",
              "      <td>93</td>\n",
              "      <td>240.0</td>\n",
              "      <td>60.0</td>\n",
              "      <td>0</td>\n",
              "      <td>...</td>\n",
              "      <td>0</td>\n",
              "      <td>0</td>\n",
              "      <td>0</td>\n",
              "      <td>0</td>\n",
              "      <td>0</td>\n",
              "      <td>0</td>\n",
              "      <td>0</td>\n",
              "      <td>0</td>\n",
              "      <td>0</td>\n",
              "      <td>0</td>\n",
              "    </tr>\n",
              "    <tr>\n",
              "      <th>4</th>\n",
              "      <td>5</td>\n",
              "      <td>FRA</td>\n",
              "      <td>52.0</td>\n",
              "      <td>1385</td>\n",
              "      <td>0xD2E3D5BFCA141865669F98D64CDA85AD04DEFF47F8A0...</td>\n",
              "      <td>0x42BDEE0E05A9441C94147076EDDCC47E604DA5447DD4...</td>\n",
              "      <td>0</td>\n",
              "      <td>0.0</td>\n",
              "      <td>0.0</td>\n",
              "      <td>0</td>\n",
              "      <td>...</td>\n",
              "      <td>0</td>\n",
              "      <td>0</td>\n",
              "      <td>0</td>\n",
              "      <td>0</td>\n",
              "      <td>0</td>\n",
              "      <td>0</td>\n",
              "      <td>0</td>\n",
              "      <td>0</td>\n",
              "      <td>0</td>\n",
              "      <td>0</td>\n",
              "    </tr>\n",
              "  </tbody>\n",
              "</table>\n",
              "<p>5 rows × 29 columns</p>\n",
              "</div>\n",
              "    <div class=\"colab-df-buttons\">\n",
              "\n",
              "  <div class=\"colab-df-container\">\n",
              "    <button class=\"colab-df-convert\" onclick=\"convertToInteractive('df-a3589942-d052-4f3e-9b99-62a17980627a')\"\n",
              "            title=\"Convert this dataframe to an interactive table.\"\n",
              "            style=\"display:none;\">\n",
              "\n",
              "  <svg xmlns=\"http://www.w3.org/2000/svg\" height=\"24px\" viewBox=\"0 -960 960 960\">\n",
              "    <path d=\"M120-120v-720h720v720H120Zm60-500h600v-160H180v160Zm220 220h160v-160H400v160Zm0 220h160v-160H400v160ZM180-400h160v-160H180v160Zm440 0h160v-160H620v160ZM180-180h160v-160H180v160Zm440 0h160v-160H620v160Z\"/>\n",
              "  </svg>\n",
              "    </button>\n",
              "\n",
              "  <style>\n",
              "    .colab-df-container {\n",
              "      display:flex;\n",
              "      gap: 12px;\n",
              "    }\n",
              "\n",
              "    .colab-df-convert {\n",
              "      background-color: #E8F0FE;\n",
              "      border: none;\n",
              "      border-radius: 50%;\n",
              "      cursor: pointer;\n",
              "      display: none;\n",
              "      fill: #1967D2;\n",
              "      height: 32px;\n",
              "      padding: 0 0 0 0;\n",
              "      width: 32px;\n",
              "    }\n",
              "\n",
              "    .colab-df-convert:hover {\n",
              "      background-color: #E2EBFA;\n",
              "      box-shadow: 0px 1px 2px rgba(60, 64, 67, 0.3), 0px 1px 3px 1px rgba(60, 64, 67, 0.15);\n",
              "      fill: #174EA6;\n",
              "    }\n",
              "\n",
              "    .colab-df-buttons div {\n",
              "      margin-bottom: 4px;\n",
              "    }\n",
              "\n",
              "    [theme=dark] .colab-df-convert {\n",
              "      background-color: #3B4455;\n",
              "      fill: #D2E3FC;\n",
              "    }\n",
              "\n",
              "    [theme=dark] .colab-df-convert:hover {\n",
              "      background-color: #434B5C;\n",
              "      box-shadow: 0px 1px 3px 1px rgba(0, 0, 0, 0.15);\n",
              "      filter: drop-shadow(0px 1px 2px rgba(0, 0, 0, 0.3));\n",
              "      fill: #FFFFFF;\n",
              "    }\n",
              "  </style>\n",
              "\n",
              "    <script>\n",
              "      const buttonEl =\n",
              "        document.querySelector('#df-a3589942-d052-4f3e-9b99-62a17980627a button.colab-df-convert');\n",
              "      buttonEl.style.display =\n",
              "        google.colab.kernel.accessAllowed ? 'block' : 'none';\n",
              "\n",
              "      async function convertToInteractive(key) {\n",
              "        const element = document.querySelector('#df-a3589942-d052-4f3e-9b99-62a17980627a');\n",
              "        const dataTable =\n",
              "          await google.colab.kernel.invokeFunction('convertToInteractive',\n",
              "                                                    [key], {});\n",
              "        if (!dataTable) return;\n",
              "\n",
              "        const docLinkHtml = 'Like what you see? Visit the ' +\n",
              "          '<a target=\"_blank\" href=https://colab.research.google.com/notebooks/data_table.ipynb>data table notebook</a>'\n",
              "          + ' to learn more about interactive tables.';\n",
              "        element.innerHTML = '';\n",
              "        dataTable['output_type'] = 'display_data';\n",
              "        await google.colab.output.renderOutput(dataTable, element);\n",
              "        const docLink = document.createElement('div');\n",
              "        docLink.innerHTML = docLinkHtml;\n",
              "        element.appendChild(docLink);\n",
              "      }\n",
              "    </script>\n",
              "  </div>\n",
              "\n",
              "\n",
              "<div id=\"df-21482a6e-6f72-49fc-aaf7-8d60d5c41e72\">\n",
              "  <button class=\"colab-df-quickchart\" onclick=\"quickchart('df-21482a6e-6f72-49fc-aaf7-8d60d5c41e72')\"\n",
              "            title=\"Suggest charts\"\n",
              "            style=\"display:none;\">\n",
              "\n",
              "<svg xmlns=\"http://www.w3.org/2000/svg\" height=\"24px\"viewBox=\"0 0 24 24\"\n",
              "     width=\"24px\">\n",
              "    <g>\n",
              "        <path d=\"M19 3H5c-1.1 0-2 .9-2 2v14c0 1.1.9 2 2 2h14c1.1 0 2-.9 2-2V5c0-1.1-.9-2-2-2zM9 17H7v-7h2v7zm4 0h-2V7h2v10zm4 0h-2v-4h2v4z\"/>\n",
              "    </g>\n",
              "</svg>\n",
              "  </button>\n",
              "\n",
              "<style>\n",
              "  .colab-df-quickchart {\n",
              "      --bg-color: #E8F0FE;\n",
              "      --fill-color: #1967D2;\n",
              "      --hover-bg-color: #E2EBFA;\n",
              "      --hover-fill-color: #174EA6;\n",
              "      --disabled-fill-color: #AAA;\n",
              "      --disabled-bg-color: #DDD;\n",
              "  }\n",
              "\n",
              "  [theme=dark] .colab-df-quickchart {\n",
              "      --bg-color: #3B4455;\n",
              "      --fill-color: #D2E3FC;\n",
              "      --hover-bg-color: #434B5C;\n",
              "      --hover-fill-color: #FFFFFF;\n",
              "      --disabled-bg-color: #3B4455;\n",
              "      --disabled-fill-color: #666;\n",
              "  }\n",
              "\n",
              "  .colab-df-quickchart {\n",
              "    background-color: var(--bg-color);\n",
              "    border: none;\n",
              "    border-radius: 50%;\n",
              "    cursor: pointer;\n",
              "    display: none;\n",
              "    fill: var(--fill-color);\n",
              "    height: 32px;\n",
              "    padding: 0;\n",
              "    width: 32px;\n",
              "  }\n",
              "\n",
              "  .colab-df-quickchart:hover {\n",
              "    background-color: var(--hover-bg-color);\n",
              "    box-shadow: 0 1px 2px rgba(60, 64, 67, 0.3), 0 1px 3px 1px rgba(60, 64, 67, 0.15);\n",
              "    fill: var(--button-hover-fill-color);\n",
              "  }\n",
              "\n",
              "  .colab-df-quickchart-complete:disabled,\n",
              "  .colab-df-quickchart-complete:disabled:hover {\n",
              "    background-color: var(--disabled-bg-color);\n",
              "    fill: var(--disabled-fill-color);\n",
              "    box-shadow: none;\n",
              "  }\n",
              "\n",
              "  .colab-df-spinner {\n",
              "    border: 2px solid var(--fill-color);\n",
              "    border-color: transparent;\n",
              "    border-bottom-color: var(--fill-color);\n",
              "    animation:\n",
              "      spin 1s steps(1) infinite;\n",
              "  }\n",
              "\n",
              "  @keyframes spin {\n",
              "    0% {\n",
              "      border-color: transparent;\n",
              "      border-bottom-color: var(--fill-color);\n",
              "      border-left-color: var(--fill-color);\n",
              "    }\n",
              "    20% {\n",
              "      border-color: transparent;\n",
              "      border-left-color: var(--fill-color);\n",
              "      border-top-color: var(--fill-color);\n",
              "    }\n",
              "    30% {\n",
              "      border-color: transparent;\n",
              "      border-left-color: var(--fill-color);\n",
              "      border-top-color: var(--fill-color);\n",
              "      border-right-color: var(--fill-color);\n",
              "    }\n",
              "    40% {\n",
              "      border-color: transparent;\n",
              "      border-right-color: var(--fill-color);\n",
              "      border-top-color: var(--fill-color);\n",
              "    }\n",
              "    60% {\n",
              "      border-color: transparent;\n",
              "      border-right-color: var(--fill-color);\n",
              "    }\n",
              "    80% {\n",
              "      border-color: transparent;\n",
              "      border-right-color: var(--fill-color);\n",
              "      border-bottom-color: var(--fill-color);\n",
              "    }\n",
              "    90% {\n",
              "      border-color: transparent;\n",
              "      border-bottom-color: var(--fill-color);\n",
              "    }\n",
              "  }\n",
              "</style>\n",
              "\n",
              "  <script>\n",
              "    async function quickchart(key) {\n",
              "      const quickchartButtonEl =\n",
              "        document.querySelector('#' + key + ' button');\n",
              "      quickchartButtonEl.disabled = true;  // To prevent multiple clicks.\n",
              "      quickchartButtonEl.classList.add('colab-df-spinner');\n",
              "      try {\n",
              "        const charts = await google.colab.kernel.invokeFunction(\n",
              "            'suggestCharts', [key], {});\n",
              "      } catch (error) {\n",
              "        console.error('Error during call to suggestCharts:', error);\n",
              "      }\n",
              "      quickchartButtonEl.classList.remove('colab-df-spinner');\n",
              "      quickchartButtonEl.classList.add('colab-df-quickchart-complete');\n",
              "    }\n",
              "    (() => {\n",
              "      let quickchartButtonEl =\n",
              "        document.querySelector('#df-21482a6e-6f72-49fc-aaf7-8d60d5c41e72 button');\n",
              "      quickchartButtonEl.style.display =\n",
              "        google.colab.kernel.accessAllowed ? 'block' : 'none';\n",
              "    })();\n",
              "  </script>\n",
              "</div>\n",
              "    </div>\n",
              "  </div>\n"
            ],
            "application/vnd.google.colaboratory.intrinsic+json": {
              "type": "dataframe",
              "variable_name": "df"
            }
          },
          "metadata": {},
          "execution_count": 90
        }
      ],
      "source": [
        "#checking the data again to see it has been fixed\n",
        "\n",
        "df.head()"
      ]
    },
    {
      "cell_type": "markdown",
      "metadata": {
        "id": "uNpi10EVSovf"
      },
      "source": [
        "# Data Preprocessing <a class=\"anchor\"><a id='Pre'></a></b><br>"
      ]
    },
    {
      "cell_type": "markdown",
      "metadata": {
        "id": "HCLHtxtCZZh9"
      },
      "source": [
        "## Exploration <a class=\"anchor\"><a id='Exploration'></a></b><br>"
      ]
    },
    {
      "cell_type": "code",
      "execution_count": null,
      "metadata": {
        "colab": {
          "base_uri": "https://localhost:8080/"
        },
        "id": "gjg-qv19UeV9",
        "outputId": "d0a0f302-cd3f-491f-91ea-de7f3423acdb"
      },
      "outputs": [
        {
          "output_type": "execute_result",
          "data": {
            "text/plain": [
              "<bound method NDFrame.describe of             ID Nationality   Age  DaysSinceCreation  \\\n",
              "0            1         PRT  52.0                440   \n",
              "1            2         PRT   NaN               1385   \n",
              "2            3         DEU  32.0               1385   \n",
              "3            4         FRA  61.0               1385   \n",
              "4            5         FRA  52.0               1385   \n",
              "...        ...         ...   ...                ...   \n",
              "111728  111729         DEU  31.0                 36   \n",
              "111729  111730         BRA  43.0                 36   \n",
              "111730  111731         BRA  37.0                 36   \n",
              "111731  111732         DEU  48.0                 36   \n",
              "111732  111733         DEU  48.0                 36   \n",
              "\n",
              "                                                 NameHash  \\\n",
              "0       0x2C371FD6CE12936774A139FD7430C624F1C4D5109CE6...   \n",
              "1       0x198CDB98BF37B6E23F9548C56A88B00912D65A9AA0D6...   \n",
              "2       0xDA46E62F66936284DF2844EC4FC542D0DAD780C0EE0C...   \n",
              "3       0xC45D4CD22C58FDC5FD0F95315F6EFA5A6E7149187D49...   \n",
              "4       0xD2E3D5BFCA141865669F98D64CDA85AD04DEFF47F8A0...   \n",
              "...                                                   ...   \n",
              "111728  0x2F59F0E86596B861C3303585FDB7F090B1B2D70442C5...   \n",
              "111729  0x2708B9F11C95F384129152CDF0830B566F02D42B87AC...   \n",
              "111730  0xEF5F6AAA6120F2AC49179E16FD12477C243A8F4FC504...   \n",
              "111731  0xC70AE03F615CB96B0C84CF29419C2DDFE8EC64B77104...   \n",
              "111732  0xE52EE501843E3108F20BB8F2EC180D8654DF1424EFA2...   \n",
              "\n",
              "                                                DocIDHash  AverageLeadTime  \\\n",
              "0       0x434FD3D59469C73AFEA087017FAF8CA2296493AEABDE...               59   \n",
              "1       0xE3B0C44298FC1C149AFBF4C8996FB92427AE41E4649B...               61   \n",
              "2       0x27F5DF762CCDA622C752CCDA45794923BED9F1B66300...                0   \n",
              "3       0x8E59572913BB9B1E6CAA12FA2C8B7BF387B1D1F3432E...               93   \n",
              "4       0x42BDEE0E05A9441C94147076EDDCC47E604DA5447DD4...                0   \n",
              "...                                                   ...              ...   \n",
              "111728  0x86AC02B9393E7F58354BA4193D792C07DB91D4BE27C7...                0   \n",
              "111729  0xE87DEB08B0D7D0BDC590949FF04AAA893018BD8EB714...              170   \n",
              "111730  0x74B9B5A554F5F660371E56D4CE4C1D4C3DC80AE71D68...                0   \n",
              "111731  0xF589C016E6988AECD3E3BE793E7D606BBDB6B6D4795C...               66   \n",
              "111732  0xD539E89183AB389864B7A24B3C1FBC1FE20A40ED02E7...                0   \n",
              "\n",
              "        LodgingRevenue  OtherRevenue  BookingsCanceled  ...  SRMediumFloor  \\\n",
              "0               292.00          82.3                 1  ...              0   \n",
              "1               280.00          53.0                 0  ...              0   \n",
              "2                 0.00           0.0                 0  ...              0   \n",
              "3               240.00          60.0                 0  ...              0   \n",
              "4                 0.00           0.0                 0  ...              0   \n",
              "...                ...           ...               ...  ...            ...   \n",
              "111728            0.00           0.0                 0  ...              0   \n",
              "111729          755.25          20.0                 0  ...              0   \n",
              "111730            0.00           0.0                 0  ...              0   \n",
              "111731          708.00         185.0                 0  ...              0   \n",
              "111732            0.00           0.0                 0  ...              0   \n",
              "\n",
              "        SRBathtub  SRShower  SRCrib SRKingSizeBed SRTwinBed  SRNearElevator  \\\n",
              "0               0         0       0             0         0               0   \n",
              "1               0         0       0             0         0               0   \n",
              "2               0         0       0             0         0               0   \n",
              "3               0         0       0             0         0               0   \n",
              "4               0         0       0             0         0               0   \n",
              "...           ...       ...     ...           ...       ...             ...   \n",
              "111728          0         0       0             1         0               0   \n",
              "111729          0         0       0             1         0               0   \n",
              "111730          0         0       0             1         0               0   \n",
              "111731          0         0       0             0         0               0   \n",
              "111732          0         0       0             0         0               0   \n",
              "\n",
              "        SRAwayFromElevator  SRNoAlcoholInMiniBar  SRQuietRoom  \n",
              "0                        0                     0            0  \n",
              "1                        0                     0            0  \n",
              "2                        0                     0            0  \n",
              "3                        0                     0            0  \n",
              "4                        0                     0            0  \n",
              "...                    ...                   ...          ...  \n",
              "111728                   0                     0            0  \n",
              "111729                   0                     0            0  \n",
              "111730                   0                     0            0  \n",
              "111731                   0                     0            0  \n",
              "111732                   0                     0            0  \n",
              "\n",
              "[111733 rows x 29 columns]>"
            ],
            "text/html": [
              "<div style=\"max-width:800px; border: 1px solid var(--colab-border-color);\"><style>\n",
              "      pre.function-repr-contents {\n",
              "        overflow-x: auto;\n",
              "        padding: 8px 12px;\n",
              "        max-height: 500px;\n",
              "      }\n",
              "\n",
              "      pre.function-repr-contents.function-repr-contents-collapsed {\n",
              "        cursor: pointer;\n",
              "        max-height: 100px;\n",
              "      }\n",
              "    </style>\n",
              "    <pre style=\"white-space: initial; background:\n",
              "         var(--colab-secondary-surface-color); padding: 8px 12px;\n",
              "         border-bottom: 1px solid var(--colab-border-color);\"><b>pandas.core.generic.NDFrame.describe</b><br/>def describe(percentiles=None, include=None, exclude=None, datetime_is_numeric: bool_t=False) -&gt; NDFrameT</pre><pre class=\"function-repr-contents function-repr-contents-collapsed\" style=\"\"><a class=\"filepath\" style=\"display:none\" href=\"#\">/usr/local/lib/python3.10/dist-packages/pandas/core/generic.py</a>Generate descriptive statistics.\n",
              "\n",
              "Descriptive statistics include those that summarize the central\n",
              "tendency, dispersion and shape of a\n",
              "dataset&#x27;s distribution, excluding ``NaN`` values.\n",
              "\n",
              "Analyzes both numeric and object series, as well\n",
              "as ``DataFrame`` column sets of mixed data types. The output\n",
              "will vary depending on what is provided. Refer to the notes\n",
              "below for more detail.\n",
              "\n",
              "Parameters\n",
              "----------\n",
              "percentiles : list-like of numbers, optional\n",
              "    The percentiles to include in the output. All should\n",
              "    fall between 0 and 1. The default is\n",
              "    ``[.25, .5, .75]``, which returns the 25th, 50th, and\n",
              "    75th percentiles.\n",
              "include : &#x27;all&#x27;, list-like of dtypes or None (default), optional\n",
              "    A white list of data types to include in the result. Ignored\n",
              "    for ``Series``. Here are the options:\n",
              "\n",
              "    - &#x27;all&#x27; : All columns of the input will be included in the output.\n",
              "    - A list-like of dtypes : Limits the results to the\n",
              "      provided data types.\n",
              "      To limit the result to numeric types submit\n",
              "      ``numpy.number``. To limit it instead to object columns submit\n",
              "      the ``numpy.object`` data type. Strings\n",
              "      can also be used in the style of\n",
              "      ``select_dtypes`` (e.g. ``df.describe(include=[&#x27;O&#x27;])``). To\n",
              "      select pandas categorical columns, use ``&#x27;category&#x27;``\n",
              "    - None (default) : The result will include all numeric columns.\n",
              "exclude : list-like of dtypes or None (default), optional,\n",
              "    A black list of data types to omit from the result. Ignored\n",
              "    for ``Series``. Here are the options:\n",
              "\n",
              "    - A list-like of dtypes : Excludes the provided data types\n",
              "      from the result. To exclude numeric types submit\n",
              "      ``numpy.number``. To exclude object columns submit the data\n",
              "      type ``numpy.object``. Strings can also be used in the style of\n",
              "      ``select_dtypes`` (e.g. ``df.describe(exclude=[&#x27;O&#x27;])``). To\n",
              "      exclude pandas categorical columns, use ``&#x27;category&#x27;``\n",
              "    - None (default) : The result will exclude nothing.\n",
              "datetime_is_numeric : bool, default False\n",
              "    Whether to treat datetime dtypes as numeric. This affects statistics\n",
              "    calculated for the column. For DataFrame input, this also\n",
              "    controls whether datetime columns are included by default.\n",
              "\n",
              "    .. versionadded:: 1.1.0\n",
              "\n",
              "Returns\n",
              "-------\n",
              "Series or DataFrame\n",
              "    Summary statistics of the Series or Dataframe provided.\n",
              "\n",
              "See Also\n",
              "--------\n",
              "DataFrame.count: Count number of non-NA/null observations.\n",
              "DataFrame.max: Maximum of the values in the object.\n",
              "DataFrame.min: Minimum of the values in the object.\n",
              "DataFrame.mean: Mean of the values.\n",
              "DataFrame.std: Standard deviation of the observations.\n",
              "DataFrame.select_dtypes: Subset of a DataFrame including/excluding\n",
              "    columns based on their dtype.\n",
              "\n",
              "Notes\n",
              "-----\n",
              "For numeric data, the result&#x27;s index will include ``count``,\n",
              "``mean``, ``std``, ``min``, ``max`` as well as lower, ``50`` and\n",
              "upper percentiles. By default the lower percentile is ``25`` and the\n",
              "upper percentile is ``75``. The ``50`` percentile is the\n",
              "same as the median.\n",
              "\n",
              "For object data (e.g. strings or timestamps), the result&#x27;s index\n",
              "will include ``count``, ``unique``, ``top``, and ``freq``. The ``top``\n",
              "is the most common value. The ``freq`` is the most common value&#x27;s\n",
              "frequency. Timestamps also include the ``first`` and ``last`` items.\n",
              "\n",
              "If multiple object values have the highest count, then the\n",
              "``count`` and ``top`` results will be arbitrarily chosen from\n",
              "among those with the highest count.\n",
              "\n",
              "For mixed data types provided via a ``DataFrame``, the default is to\n",
              "return only an analysis of numeric columns. If the dataframe consists\n",
              "only of object and categorical data without any numeric columns, the\n",
              "default is to return an analysis of both the object and categorical\n",
              "columns. If ``include=&#x27;all&#x27;`` is provided as an option, the result\n",
              "will include a union of attributes of each type.\n",
              "\n",
              "The `include` and `exclude` parameters can be used to limit\n",
              "which columns in a ``DataFrame`` are analyzed for the output.\n",
              "The parameters are ignored when analyzing a ``Series``.\n",
              "\n",
              "Examples\n",
              "--------\n",
              "Describing a numeric ``Series``.\n",
              "\n",
              "&gt;&gt;&gt; s = pd.Series([1, 2, 3])\n",
              "&gt;&gt;&gt; s.describe()\n",
              "count    3.0\n",
              "mean     2.0\n",
              "std      1.0\n",
              "min      1.0\n",
              "25%      1.5\n",
              "50%      2.0\n",
              "75%      2.5\n",
              "max      3.0\n",
              "dtype: float64\n",
              "\n",
              "Describing a categorical ``Series``.\n",
              "\n",
              "&gt;&gt;&gt; s = pd.Series([&#x27;a&#x27;, &#x27;a&#x27;, &#x27;b&#x27;, &#x27;c&#x27;])\n",
              "&gt;&gt;&gt; s.describe()\n",
              "count     4\n",
              "unique    3\n",
              "top       a\n",
              "freq      2\n",
              "dtype: object\n",
              "\n",
              "Describing a timestamp ``Series``.\n",
              "\n",
              "&gt;&gt;&gt; s = pd.Series([\n",
              "...   np.datetime64(&quot;2000-01-01&quot;),\n",
              "...   np.datetime64(&quot;2010-01-01&quot;),\n",
              "...   np.datetime64(&quot;2010-01-01&quot;)\n",
              "... ])\n",
              "&gt;&gt;&gt; s.describe(datetime_is_numeric=True)\n",
              "count                      3\n",
              "mean     2006-09-01 08:00:00\n",
              "min      2000-01-01 00:00:00\n",
              "25%      2004-12-31 12:00:00\n",
              "50%      2010-01-01 00:00:00\n",
              "75%      2010-01-01 00:00:00\n",
              "max      2010-01-01 00:00:00\n",
              "dtype: object\n",
              "\n",
              "Describing a ``DataFrame``. By default only numeric fields\n",
              "are returned.\n",
              "\n",
              "&gt;&gt;&gt; df = pd.DataFrame({&#x27;categorical&#x27;: pd.Categorical([&#x27;d&#x27;,&#x27;e&#x27;,&#x27;f&#x27;]),\n",
              "...                    &#x27;numeric&#x27;: [1, 2, 3],\n",
              "...                    &#x27;object&#x27;: [&#x27;a&#x27;, &#x27;b&#x27;, &#x27;c&#x27;]\n",
              "...                   })\n",
              "&gt;&gt;&gt; df.describe()\n",
              "       numeric\n",
              "count      3.0\n",
              "mean       2.0\n",
              "std        1.0\n",
              "min        1.0\n",
              "25%        1.5\n",
              "50%        2.0\n",
              "75%        2.5\n",
              "max        3.0\n",
              "\n",
              "Describing all columns of a ``DataFrame`` regardless of data type.\n",
              "\n",
              "&gt;&gt;&gt; df.describe(include=&#x27;all&#x27;)  # doctest: +SKIP\n",
              "       categorical  numeric object\n",
              "count            3      3.0      3\n",
              "unique           3      NaN      3\n",
              "top              f      NaN      a\n",
              "freq             1      NaN      1\n",
              "mean           NaN      2.0    NaN\n",
              "std            NaN      1.0    NaN\n",
              "min            NaN      1.0    NaN\n",
              "25%            NaN      1.5    NaN\n",
              "50%            NaN      2.0    NaN\n",
              "75%            NaN      2.5    NaN\n",
              "max            NaN      3.0    NaN\n",
              "\n",
              "Describing a column from a ``DataFrame`` by accessing it as\n",
              "an attribute.\n",
              "\n",
              "&gt;&gt;&gt; df.numeric.describe()\n",
              "count    3.0\n",
              "mean     2.0\n",
              "std      1.0\n",
              "min      1.0\n",
              "25%      1.5\n",
              "50%      2.0\n",
              "75%      2.5\n",
              "max      3.0\n",
              "Name: numeric, dtype: float64\n",
              "\n",
              "Including only numeric columns in a ``DataFrame`` description.\n",
              "\n",
              "&gt;&gt;&gt; df.describe(include=[np.number])\n",
              "       numeric\n",
              "count      3.0\n",
              "mean       2.0\n",
              "std        1.0\n",
              "min        1.0\n",
              "25%        1.5\n",
              "50%        2.0\n",
              "75%        2.5\n",
              "max        3.0\n",
              "\n",
              "Including only string columns in a ``DataFrame`` description.\n",
              "\n",
              "&gt;&gt;&gt; df.describe(include=[object])  # doctest: +SKIP\n",
              "       object\n",
              "count       3\n",
              "unique      3\n",
              "top         a\n",
              "freq        1\n",
              "\n",
              "Including only categorical columns from a ``DataFrame`` description.\n",
              "\n",
              "&gt;&gt;&gt; df.describe(include=[&#x27;category&#x27;])\n",
              "       categorical\n",
              "count            3\n",
              "unique           3\n",
              "top              d\n",
              "freq             1\n",
              "\n",
              "Excluding numeric columns from a ``DataFrame`` description.\n",
              "\n",
              "&gt;&gt;&gt; df.describe(exclude=[np.number])  # doctest: +SKIP\n",
              "       categorical object\n",
              "count            3      3\n",
              "unique           3      3\n",
              "top              f      a\n",
              "freq             1      1\n",
              "\n",
              "Excluding object columns from a ``DataFrame`` description.\n",
              "\n",
              "&gt;&gt;&gt; df.describe(exclude=[object])  # doctest: +SKIP\n",
              "       categorical  numeric\n",
              "count            3      3.0\n",
              "unique           3      NaN\n",
              "top              f      NaN\n",
              "freq             1      NaN\n",
              "mean           NaN      2.0\n",
              "std            NaN      1.0\n",
              "min            NaN      1.0\n",
              "25%            NaN      1.5\n",
              "50%            NaN      2.0\n",
              "75%            NaN      2.5\n",
              "max            NaN      3.0</pre>\n",
              "      <script>\n",
              "      if (google.colab.kernel.accessAllowed && google.colab.files && google.colab.files.view) {\n",
              "        for (const element of document.querySelectorAll('.filepath')) {\n",
              "          element.style.display = 'block'\n",
              "          element.onclick = (event) => {\n",
              "            event.preventDefault();\n",
              "            event.stopPropagation();\n",
              "            google.colab.files.view(element.textContent, 10691);\n",
              "          };\n",
              "        }\n",
              "      }\n",
              "      for (const element of document.querySelectorAll('.function-repr-contents')) {\n",
              "        element.onclick = (event) => {\n",
              "          event.preventDefault();\n",
              "          event.stopPropagation();\n",
              "          element.classList.toggle('function-repr-contents-collapsed');\n",
              "        };\n",
              "      }\n",
              "      </script>\n",
              "      </div>"
            ]
          },
          "metadata": {},
          "execution_count": 91
        }
      ],
      "source": [
        "df.describe"
      ]
    },
    {
      "cell_type": "markdown",
      "metadata": {
        "id": "oZLHqSGXNS8W"
      },
      "source": [
        "## Metric and Non-Metric Features <a class=\"anchor\"><a id='Me_Non-Me'></a></b><br>"
      ]
    },
    {
      "cell_type": "code",
      "execution_count": null,
      "metadata": {
        "colab": {
          "base_uri": "https://localhost:8080/"
        },
        "id": "Uc7-jmfJXfIy",
        "outputId": "ea8922d3-2390-4e62-ae81-f027ccbf1664"
      },
      "outputs": [
        {
          "output_type": "execute_result",
          "data": {
            "text/plain": [
              "ID                        int64\n",
              "Nationality              object\n",
              "Age                     float64\n",
              "DaysSinceCreation         int64\n",
              "NameHash                 object\n",
              "DocIDHash                object\n",
              "AverageLeadTime           int64\n",
              "LodgingRevenue          float64\n",
              "OtherRevenue            float64\n",
              "BookingsCanceled          int64\n",
              "BookingsNoShowed          int64\n",
              "BookingsCheckedIn         int64\n",
              "PersonsNights             int64\n",
              "RoomNights                int64\n",
              "DistributionChannel      object\n",
              "MarketSegment            object\n",
              "SRHighFloor               int64\n",
              "SRLowFloor                int64\n",
              "SRAccessibleRoom          int64\n",
              "SRMediumFloor             int64\n",
              "SRBathtub                 int64\n",
              "SRShower                  int64\n",
              "SRCrib                    int64\n",
              "SRKingSizeBed             int64\n",
              "SRTwinBed                 int64\n",
              "SRNearElevator            int64\n",
              "SRAwayFromElevator        int64\n",
              "SRNoAlcoholInMiniBar      int64\n",
              "SRQuietRoom               int64\n",
              "dtype: object"
            ]
          },
          "metadata": {},
          "execution_count": 92
        }
      ],
      "source": [
        "df.dtypes"
      ]
    },
    {
      "cell_type": "code",
      "execution_count": null,
      "metadata": {
        "id": "d9YIYF12Yo5g"
      },
      "outputs": [],
      "source": [
        "#To further explore the data we will divide the data to numeric and non numeric to further explore the data.\n",
        "\n",
        "#numeric columns\n",
        "#numeric_df = df.select_dtypes(include=[np.number])\n",
        "\n",
        "#non-numeric (object in this case) columns\n",
        "#non_numeric_df = df.select_dtypes(exclude=[np.number])"
      ]
    },
    {
      "cell_type": "code",
      "execution_count": null,
      "metadata": {
        "id": "6Kcx2ur8RxaI"
      },
      "outputs": [],
      "source": [
        "# Metric (Numeric) features\n",
        "metric_features = [\n",
        "    \"Age\", \"DaysSinceCreation\", \"AverageLeadTime\", \"LodgingRevenue\",\n",
        "    \"OtherRevenue\", \"BookingsCanceled\", \"BookingsNoShowed\", \"BookingsCheckedIn\",\n",
        "    \"PersonsNights\", \"RoomNights\"\n",
        "]\n",
        "\n",
        "# Non-metric (Non-numeric) features\n",
        "non_metric_features = [\n",
        "    \"ID\", \"Nationality\", \"NameHash\", \"DocIDHash\", \"DistributionChannel\",\n",
        "    \"MarketSegment\", \"SRHighFloor\", \"SRLowFloor\", \"SRAccessibleRoom\",\n",
        "    \"SRMediumFloor\", \"SRBathtub\", \"SRShower\", \"SRCrib\", \"SRKingSizeBed\",\n",
        "    \"SRTwinBed\", \"SRNearElevator\", \"SRAwayFromElevator\", \"SRNoAlcoholInMiniBar\",\n",
        "    \"SRQuietRoom\"\n",
        "]\n",
        "\n",
        "# Now, you can select these features directly from your DataFrame\n",
        "numeric_df = df[metric_features]\n",
        "non_numeric_df = df[non_metric_features]"
      ]
    },
    {
      "cell_type": "code",
      "execution_count": null,
      "metadata": {
        "colab": {
          "base_uri": "https://localhost:8080/"
        },
        "id": "aScaEAjqY8u7",
        "outputId": "bbd9c07f-61ff-4641-e925-fa0af61187da"
      },
      "outputs": [
        {
          "output_type": "execute_result",
          "data": {
            "text/plain": [
              "    Age  DaysSinceCreation  AverageLeadTime  LodgingRevenue  OtherRevenue  \\\n",
              "0  52.0                440               59           292.0          82.3   \n",
              "1   NaN               1385               61           280.0          53.0   \n",
              "2  32.0               1385                0             0.0           0.0   \n",
              "3  61.0               1385               93           240.0          60.0   \n",
              "4  52.0               1385                0             0.0           0.0   \n",
              "\n",
              "   BookingsCanceled  BookingsNoShowed  BookingsCheckedIn  PersonsNights  \\\n",
              "0                 1                 0                  2              6   \n",
              "1                 0                 0                  1             10   \n",
              "2                 0                 0                  0              0   \n",
              "3                 0                 0                  1             10   \n",
              "4                 0                 0                  0              0   \n",
              "\n",
              "   RoomNights  \n",
              "0           4  \n",
              "1           5  \n",
              "2           0  \n",
              "3           5  \n",
              "4           0  "
            ],
            "text/html": [
              "\n",
              "  <div id=\"df-9374d4da-9fa7-4400-9fc9-80917aba05f6\" class=\"colab-df-container\">\n",
              "    <div>\n",
              "<style scoped>\n",
              "    .dataframe tbody tr th:only-of-type {\n",
              "        vertical-align: middle;\n",
              "    }\n",
              "\n",
              "    .dataframe tbody tr th {\n",
              "        vertical-align: top;\n",
              "    }\n",
              "\n",
              "    .dataframe thead th {\n",
              "        text-align: right;\n",
              "    }\n",
              "</style>\n",
              "<table border=\"1\" class=\"dataframe\">\n",
              "  <thead>\n",
              "    <tr style=\"text-align: right;\">\n",
              "      <th></th>\n",
              "      <th>Age</th>\n",
              "      <th>DaysSinceCreation</th>\n",
              "      <th>AverageLeadTime</th>\n",
              "      <th>LodgingRevenue</th>\n",
              "      <th>OtherRevenue</th>\n",
              "      <th>BookingsCanceled</th>\n",
              "      <th>BookingsNoShowed</th>\n",
              "      <th>BookingsCheckedIn</th>\n",
              "      <th>PersonsNights</th>\n",
              "      <th>RoomNights</th>\n",
              "    </tr>\n",
              "  </thead>\n",
              "  <tbody>\n",
              "    <tr>\n",
              "      <th>0</th>\n",
              "      <td>52.0</td>\n",
              "      <td>440</td>\n",
              "      <td>59</td>\n",
              "      <td>292.0</td>\n",
              "      <td>82.3</td>\n",
              "      <td>1</td>\n",
              "      <td>0</td>\n",
              "      <td>2</td>\n",
              "      <td>6</td>\n",
              "      <td>4</td>\n",
              "    </tr>\n",
              "    <tr>\n",
              "      <th>1</th>\n",
              "      <td>NaN</td>\n",
              "      <td>1385</td>\n",
              "      <td>61</td>\n",
              "      <td>280.0</td>\n",
              "      <td>53.0</td>\n",
              "      <td>0</td>\n",
              "      <td>0</td>\n",
              "      <td>1</td>\n",
              "      <td>10</td>\n",
              "      <td>5</td>\n",
              "    </tr>\n",
              "    <tr>\n",
              "      <th>2</th>\n",
              "      <td>32.0</td>\n",
              "      <td>1385</td>\n",
              "      <td>0</td>\n",
              "      <td>0.0</td>\n",
              "      <td>0.0</td>\n",
              "      <td>0</td>\n",
              "      <td>0</td>\n",
              "      <td>0</td>\n",
              "      <td>0</td>\n",
              "      <td>0</td>\n",
              "    </tr>\n",
              "    <tr>\n",
              "      <th>3</th>\n",
              "      <td>61.0</td>\n",
              "      <td>1385</td>\n",
              "      <td>93</td>\n",
              "      <td>240.0</td>\n",
              "      <td>60.0</td>\n",
              "      <td>0</td>\n",
              "      <td>0</td>\n",
              "      <td>1</td>\n",
              "      <td>10</td>\n",
              "      <td>5</td>\n",
              "    </tr>\n",
              "    <tr>\n",
              "      <th>4</th>\n",
              "      <td>52.0</td>\n",
              "      <td>1385</td>\n",
              "      <td>0</td>\n",
              "      <td>0.0</td>\n",
              "      <td>0.0</td>\n",
              "      <td>0</td>\n",
              "      <td>0</td>\n",
              "      <td>0</td>\n",
              "      <td>0</td>\n",
              "      <td>0</td>\n",
              "    </tr>\n",
              "  </tbody>\n",
              "</table>\n",
              "</div>\n",
              "    <div class=\"colab-df-buttons\">\n",
              "\n",
              "  <div class=\"colab-df-container\">\n",
              "    <button class=\"colab-df-convert\" onclick=\"convertToInteractive('df-9374d4da-9fa7-4400-9fc9-80917aba05f6')\"\n",
              "            title=\"Convert this dataframe to an interactive table.\"\n",
              "            style=\"display:none;\">\n",
              "\n",
              "  <svg xmlns=\"http://www.w3.org/2000/svg\" height=\"24px\" viewBox=\"0 -960 960 960\">\n",
              "    <path d=\"M120-120v-720h720v720H120Zm60-500h600v-160H180v160Zm220 220h160v-160H400v160Zm0 220h160v-160H400v160ZM180-400h160v-160H180v160Zm440 0h160v-160H620v160ZM180-180h160v-160H180v160Zm440 0h160v-160H620v160Z\"/>\n",
              "  </svg>\n",
              "    </button>\n",
              "\n",
              "  <style>\n",
              "    .colab-df-container {\n",
              "      display:flex;\n",
              "      gap: 12px;\n",
              "    }\n",
              "\n",
              "    .colab-df-convert {\n",
              "      background-color: #E8F0FE;\n",
              "      border: none;\n",
              "      border-radius: 50%;\n",
              "      cursor: pointer;\n",
              "      display: none;\n",
              "      fill: #1967D2;\n",
              "      height: 32px;\n",
              "      padding: 0 0 0 0;\n",
              "      width: 32px;\n",
              "    }\n",
              "\n",
              "    .colab-df-convert:hover {\n",
              "      background-color: #E2EBFA;\n",
              "      box-shadow: 0px 1px 2px rgba(60, 64, 67, 0.3), 0px 1px 3px 1px rgba(60, 64, 67, 0.15);\n",
              "      fill: #174EA6;\n",
              "    }\n",
              "\n",
              "    .colab-df-buttons div {\n",
              "      margin-bottom: 4px;\n",
              "    }\n",
              "\n",
              "    [theme=dark] .colab-df-convert {\n",
              "      background-color: #3B4455;\n",
              "      fill: #D2E3FC;\n",
              "    }\n",
              "\n",
              "    [theme=dark] .colab-df-convert:hover {\n",
              "      background-color: #434B5C;\n",
              "      box-shadow: 0px 1px 3px 1px rgba(0, 0, 0, 0.15);\n",
              "      filter: drop-shadow(0px 1px 2px rgba(0, 0, 0, 0.3));\n",
              "      fill: #FFFFFF;\n",
              "    }\n",
              "  </style>\n",
              "\n",
              "    <script>\n",
              "      const buttonEl =\n",
              "        document.querySelector('#df-9374d4da-9fa7-4400-9fc9-80917aba05f6 button.colab-df-convert');\n",
              "      buttonEl.style.display =\n",
              "        google.colab.kernel.accessAllowed ? 'block' : 'none';\n",
              "\n",
              "      async function convertToInteractive(key) {\n",
              "        const element = document.querySelector('#df-9374d4da-9fa7-4400-9fc9-80917aba05f6');\n",
              "        const dataTable =\n",
              "          await google.colab.kernel.invokeFunction('convertToInteractive',\n",
              "                                                    [key], {});\n",
              "        if (!dataTable) return;\n",
              "\n",
              "        const docLinkHtml = 'Like what you see? Visit the ' +\n",
              "          '<a target=\"_blank\" href=https://colab.research.google.com/notebooks/data_table.ipynb>data table notebook</a>'\n",
              "          + ' to learn more about interactive tables.';\n",
              "        element.innerHTML = '';\n",
              "        dataTable['output_type'] = 'display_data';\n",
              "        await google.colab.output.renderOutput(dataTable, element);\n",
              "        const docLink = document.createElement('div');\n",
              "        docLink.innerHTML = docLinkHtml;\n",
              "        element.appendChild(docLink);\n",
              "      }\n",
              "    </script>\n",
              "  </div>\n",
              "\n",
              "\n",
              "<div id=\"df-3c0219e0-eabe-4d81-ad5a-a5b255b2cc06\">\n",
              "  <button class=\"colab-df-quickchart\" onclick=\"quickchart('df-3c0219e0-eabe-4d81-ad5a-a5b255b2cc06')\"\n",
              "            title=\"Suggest charts\"\n",
              "            style=\"display:none;\">\n",
              "\n",
              "<svg xmlns=\"http://www.w3.org/2000/svg\" height=\"24px\"viewBox=\"0 0 24 24\"\n",
              "     width=\"24px\">\n",
              "    <g>\n",
              "        <path d=\"M19 3H5c-1.1 0-2 .9-2 2v14c0 1.1.9 2 2 2h14c1.1 0 2-.9 2-2V5c0-1.1-.9-2-2-2zM9 17H7v-7h2v7zm4 0h-2V7h2v10zm4 0h-2v-4h2v4z\"/>\n",
              "    </g>\n",
              "</svg>\n",
              "  </button>\n",
              "\n",
              "<style>\n",
              "  .colab-df-quickchart {\n",
              "      --bg-color: #E8F0FE;\n",
              "      --fill-color: #1967D2;\n",
              "      --hover-bg-color: #E2EBFA;\n",
              "      --hover-fill-color: #174EA6;\n",
              "      --disabled-fill-color: #AAA;\n",
              "      --disabled-bg-color: #DDD;\n",
              "  }\n",
              "\n",
              "  [theme=dark] .colab-df-quickchart {\n",
              "      --bg-color: #3B4455;\n",
              "      --fill-color: #D2E3FC;\n",
              "      --hover-bg-color: #434B5C;\n",
              "      --hover-fill-color: #FFFFFF;\n",
              "      --disabled-bg-color: #3B4455;\n",
              "      --disabled-fill-color: #666;\n",
              "  }\n",
              "\n",
              "  .colab-df-quickchart {\n",
              "    background-color: var(--bg-color);\n",
              "    border: none;\n",
              "    border-radius: 50%;\n",
              "    cursor: pointer;\n",
              "    display: none;\n",
              "    fill: var(--fill-color);\n",
              "    height: 32px;\n",
              "    padding: 0;\n",
              "    width: 32px;\n",
              "  }\n",
              "\n",
              "  .colab-df-quickchart:hover {\n",
              "    background-color: var(--hover-bg-color);\n",
              "    box-shadow: 0 1px 2px rgba(60, 64, 67, 0.3), 0 1px 3px 1px rgba(60, 64, 67, 0.15);\n",
              "    fill: var(--button-hover-fill-color);\n",
              "  }\n",
              "\n",
              "  .colab-df-quickchart-complete:disabled,\n",
              "  .colab-df-quickchart-complete:disabled:hover {\n",
              "    background-color: var(--disabled-bg-color);\n",
              "    fill: var(--disabled-fill-color);\n",
              "    box-shadow: none;\n",
              "  }\n",
              "\n",
              "  .colab-df-spinner {\n",
              "    border: 2px solid var(--fill-color);\n",
              "    border-color: transparent;\n",
              "    border-bottom-color: var(--fill-color);\n",
              "    animation:\n",
              "      spin 1s steps(1) infinite;\n",
              "  }\n",
              "\n",
              "  @keyframes spin {\n",
              "    0% {\n",
              "      border-color: transparent;\n",
              "      border-bottom-color: var(--fill-color);\n",
              "      border-left-color: var(--fill-color);\n",
              "    }\n",
              "    20% {\n",
              "      border-color: transparent;\n",
              "      border-left-color: var(--fill-color);\n",
              "      border-top-color: var(--fill-color);\n",
              "    }\n",
              "    30% {\n",
              "      border-color: transparent;\n",
              "      border-left-color: var(--fill-color);\n",
              "      border-top-color: var(--fill-color);\n",
              "      border-right-color: var(--fill-color);\n",
              "    }\n",
              "    40% {\n",
              "      border-color: transparent;\n",
              "      border-right-color: var(--fill-color);\n",
              "      border-top-color: var(--fill-color);\n",
              "    }\n",
              "    60% {\n",
              "      border-color: transparent;\n",
              "      border-right-color: var(--fill-color);\n",
              "    }\n",
              "    80% {\n",
              "      border-color: transparent;\n",
              "      border-right-color: var(--fill-color);\n",
              "      border-bottom-color: var(--fill-color);\n",
              "    }\n",
              "    90% {\n",
              "      border-color: transparent;\n",
              "      border-bottom-color: var(--fill-color);\n",
              "    }\n",
              "  }\n",
              "</style>\n",
              "\n",
              "  <script>\n",
              "    async function quickchart(key) {\n",
              "      const quickchartButtonEl =\n",
              "        document.querySelector('#' + key + ' button');\n",
              "      quickchartButtonEl.disabled = true;  // To prevent multiple clicks.\n",
              "      quickchartButtonEl.classList.add('colab-df-spinner');\n",
              "      try {\n",
              "        const charts = await google.colab.kernel.invokeFunction(\n",
              "            'suggestCharts', [key], {});\n",
              "      } catch (error) {\n",
              "        console.error('Error during call to suggestCharts:', error);\n",
              "      }\n",
              "      quickchartButtonEl.classList.remove('colab-df-spinner');\n",
              "      quickchartButtonEl.classList.add('colab-df-quickchart-complete');\n",
              "    }\n",
              "    (() => {\n",
              "      let quickchartButtonEl =\n",
              "        document.querySelector('#df-3c0219e0-eabe-4d81-ad5a-a5b255b2cc06 button');\n",
              "      quickchartButtonEl.style.display =\n",
              "        google.colab.kernel.accessAllowed ? 'block' : 'none';\n",
              "    })();\n",
              "  </script>\n",
              "</div>\n",
              "    </div>\n",
              "  </div>\n"
            ],
            "application/vnd.google.colaboratory.intrinsic+json": {
              "type": "dataframe",
              "variable_name": "numeric_df"
            }
          },
          "metadata": {},
          "execution_count": 95
        }
      ],
      "source": [
        "numeric_df.head(5)"
      ]
    },
    {
      "cell_type": "code",
      "execution_count": null,
      "metadata": {
        "colab": {
          "base_uri": "https://localhost:8080/"
        },
        "id": "-q52MqQMZLAe",
        "outputId": "20f390e1-1783-4be0-e73d-cc1d08c0985c"
      },
      "outputs": [
        {
          "output_type": "execute_result",
          "data": {
            "text/plain": [
              "   ID Nationality                                           NameHash  \\\n",
              "0   1         PRT  0x2C371FD6CE12936774A139FD7430C624F1C4D5109CE6...   \n",
              "1   2         PRT  0x198CDB98BF37B6E23F9548C56A88B00912D65A9AA0D6...   \n",
              "2   3         DEU  0xDA46E62F66936284DF2844EC4FC542D0DAD780C0EE0C...   \n",
              "3   4         FRA  0xC45D4CD22C58FDC5FD0F95315F6EFA5A6E7149187D49...   \n",
              "4   5         FRA  0xD2E3D5BFCA141865669F98D64CDA85AD04DEFF47F8A0...   \n",
              "\n",
              "                                           DocIDHash    DistributionChannel  \\\n",
              "0  0x434FD3D59469C73AFEA087017FAF8CA2296493AEABDE...              Corporate   \n",
              "1  0xE3B0C44298FC1C149AFBF4C8996FB92427AE41E4649B...  Travel Agent/Operator   \n",
              "2  0x27F5DF762CCDA622C752CCDA45794923BED9F1B66300...  Travel Agent/Operator   \n",
              "3  0x8E59572913BB9B1E6CAA12FA2C8B7BF387B1D1F3432E...  Travel Agent/Operator   \n",
              "4  0x42BDEE0E05A9441C94147076EDDCC47E604DA5447DD4...  Travel Agent/Operator   \n",
              "\n",
              "           MarketSegment  SRHighFloor  SRLowFloor  SRAccessibleRoom  \\\n",
              "0              Corporate            0           0                 0   \n",
              "1  Travel Agent/Operator            0           0                 0   \n",
              "2  Travel Agent/Operator            0           0                 0   \n",
              "3  Travel Agent/Operator            0           0                 0   \n",
              "4  Travel Agent/Operator            0           0                 0   \n",
              "\n",
              "   SRMediumFloor  SRBathtub  SRShower  SRCrib  SRKingSizeBed  SRTwinBed  \\\n",
              "0              0          0         0       0              0          0   \n",
              "1              0          0         0       0              0          0   \n",
              "2              0          0         0       0              0          0   \n",
              "3              0          0         0       0              0          0   \n",
              "4              0          0         0       0              0          0   \n",
              "\n",
              "   SRNearElevator  SRAwayFromElevator  SRNoAlcoholInMiniBar  SRQuietRoom  \n",
              "0               0                   0                     0            0  \n",
              "1               0                   0                     0            0  \n",
              "2               0                   0                     0            0  \n",
              "3               0                   0                     0            0  \n",
              "4               0                   0                     0            0  "
            ],
            "text/html": [
              "\n",
              "  <div id=\"df-20a47481-7d38-482f-b1dd-a945e4bc997b\" class=\"colab-df-container\">\n",
              "    <div>\n",
              "<style scoped>\n",
              "    .dataframe tbody tr th:only-of-type {\n",
              "        vertical-align: middle;\n",
              "    }\n",
              "\n",
              "    .dataframe tbody tr th {\n",
              "        vertical-align: top;\n",
              "    }\n",
              "\n",
              "    .dataframe thead th {\n",
              "        text-align: right;\n",
              "    }\n",
              "</style>\n",
              "<table border=\"1\" class=\"dataframe\">\n",
              "  <thead>\n",
              "    <tr style=\"text-align: right;\">\n",
              "      <th></th>\n",
              "      <th>ID</th>\n",
              "      <th>Nationality</th>\n",
              "      <th>NameHash</th>\n",
              "      <th>DocIDHash</th>\n",
              "      <th>DistributionChannel</th>\n",
              "      <th>MarketSegment</th>\n",
              "      <th>SRHighFloor</th>\n",
              "      <th>SRLowFloor</th>\n",
              "      <th>SRAccessibleRoom</th>\n",
              "      <th>SRMediumFloor</th>\n",
              "      <th>SRBathtub</th>\n",
              "      <th>SRShower</th>\n",
              "      <th>SRCrib</th>\n",
              "      <th>SRKingSizeBed</th>\n",
              "      <th>SRTwinBed</th>\n",
              "      <th>SRNearElevator</th>\n",
              "      <th>SRAwayFromElevator</th>\n",
              "      <th>SRNoAlcoholInMiniBar</th>\n",
              "      <th>SRQuietRoom</th>\n",
              "    </tr>\n",
              "  </thead>\n",
              "  <tbody>\n",
              "    <tr>\n",
              "      <th>0</th>\n",
              "      <td>1</td>\n",
              "      <td>PRT</td>\n",
              "      <td>0x2C371FD6CE12936774A139FD7430C624F1C4D5109CE6...</td>\n",
              "      <td>0x434FD3D59469C73AFEA087017FAF8CA2296493AEABDE...</td>\n",
              "      <td>Corporate</td>\n",
              "      <td>Corporate</td>\n",
              "      <td>0</td>\n",
              "      <td>0</td>\n",
              "      <td>0</td>\n",
              "      <td>0</td>\n",
              "      <td>0</td>\n",
              "      <td>0</td>\n",
              "      <td>0</td>\n",
              "      <td>0</td>\n",
              "      <td>0</td>\n",
              "      <td>0</td>\n",
              "      <td>0</td>\n",
              "      <td>0</td>\n",
              "      <td>0</td>\n",
              "    </tr>\n",
              "    <tr>\n",
              "      <th>1</th>\n",
              "      <td>2</td>\n",
              "      <td>PRT</td>\n",
              "      <td>0x198CDB98BF37B6E23F9548C56A88B00912D65A9AA0D6...</td>\n",
              "      <td>0xE3B0C44298FC1C149AFBF4C8996FB92427AE41E4649B...</td>\n",
              "      <td>Travel Agent/Operator</td>\n",
              "      <td>Travel Agent/Operator</td>\n",
              "      <td>0</td>\n",
              "      <td>0</td>\n",
              "      <td>0</td>\n",
              "      <td>0</td>\n",
              "      <td>0</td>\n",
              "      <td>0</td>\n",
              "      <td>0</td>\n",
              "      <td>0</td>\n",
              "      <td>0</td>\n",
              "      <td>0</td>\n",
              "      <td>0</td>\n",
              "      <td>0</td>\n",
              "      <td>0</td>\n",
              "    </tr>\n",
              "    <tr>\n",
              "      <th>2</th>\n",
              "      <td>3</td>\n",
              "      <td>DEU</td>\n",
              "      <td>0xDA46E62F66936284DF2844EC4FC542D0DAD780C0EE0C...</td>\n",
              "      <td>0x27F5DF762CCDA622C752CCDA45794923BED9F1B66300...</td>\n",
              "      <td>Travel Agent/Operator</td>\n",
              "      <td>Travel Agent/Operator</td>\n",
              "      <td>0</td>\n",
              "      <td>0</td>\n",
              "      <td>0</td>\n",
              "      <td>0</td>\n",
              "      <td>0</td>\n",
              "      <td>0</td>\n",
              "      <td>0</td>\n",
              "      <td>0</td>\n",
              "      <td>0</td>\n",
              "      <td>0</td>\n",
              "      <td>0</td>\n",
              "      <td>0</td>\n",
              "      <td>0</td>\n",
              "    </tr>\n",
              "    <tr>\n",
              "      <th>3</th>\n",
              "      <td>4</td>\n",
              "      <td>FRA</td>\n",
              "      <td>0xC45D4CD22C58FDC5FD0F95315F6EFA5A6E7149187D49...</td>\n",
              "      <td>0x8E59572913BB9B1E6CAA12FA2C8B7BF387B1D1F3432E...</td>\n",
              "      <td>Travel Agent/Operator</td>\n",
              "      <td>Travel Agent/Operator</td>\n",
              "      <td>0</td>\n",
              "      <td>0</td>\n",
              "      <td>0</td>\n",
              "      <td>0</td>\n",
              "      <td>0</td>\n",
              "      <td>0</td>\n",
              "      <td>0</td>\n",
              "      <td>0</td>\n",
              "      <td>0</td>\n",
              "      <td>0</td>\n",
              "      <td>0</td>\n",
              "      <td>0</td>\n",
              "      <td>0</td>\n",
              "    </tr>\n",
              "    <tr>\n",
              "      <th>4</th>\n",
              "      <td>5</td>\n",
              "      <td>FRA</td>\n",
              "      <td>0xD2E3D5BFCA141865669F98D64CDA85AD04DEFF47F8A0...</td>\n",
              "      <td>0x42BDEE0E05A9441C94147076EDDCC47E604DA5447DD4...</td>\n",
              "      <td>Travel Agent/Operator</td>\n",
              "      <td>Travel Agent/Operator</td>\n",
              "      <td>0</td>\n",
              "      <td>0</td>\n",
              "      <td>0</td>\n",
              "      <td>0</td>\n",
              "      <td>0</td>\n",
              "      <td>0</td>\n",
              "      <td>0</td>\n",
              "      <td>0</td>\n",
              "      <td>0</td>\n",
              "      <td>0</td>\n",
              "      <td>0</td>\n",
              "      <td>0</td>\n",
              "      <td>0</td>\n",
              "    </tr>\n",
              "  </tbody>\n",
              "</table>\n",
              "</div>\n",
              "    <div class=\"colab-df-buttons\">\n",
              "\n",
              "  <div class=\"colab-df-container\">\n",
              "    <button class=\"colab-df-convert\" onclick=\"convertToInteractive('df-20a47481-7d38-482f-b1dd-a945e4bc997b')\"\n",
              "            title=\"Convert this dataframe to an interactive table.\"\n",
              "            style=\"display:none;\">\n",
              "\n",
              "  <svg xmlns=\"http://www.w3.org/2000/svg\" height=\"24px\" viewBox=\"0 -960 960 960\">\n",
              "    <path d=\"M120-120v-720h720v720H120Zm60-500h600v-160H180v160Zm220 220h160v-160H400v160Zm0 220h160v-160H400v160ZM180-400h160v-160H180v160Zm440 0h160v-160H620v160ZM180-180h160v-160H180v160Zm440 0h160v-160H620v160Z\"/>\n",
              "  </svg>\n",
              "    </button>\n",
              "\n",
              "  <style>\n",
              "    .colab-df-container {\n",
              "      display:flex;\n",
              "      gap: 12px;\n",
              "    }\n",
              "\n",
              "    .colab-df-convert {\n",
              "      background-color: #E8F0FE;\n",
              "      border: none;\n",
              "      border-radius: 50%;\n",
              "      cursor: pointer;\n",
              "      display: none;\n",
              "      fill: #1967D2;\n",
              "      height: 32px;\n",
              "      padding: 0 0 0 0;\n",
              "      width: 32px;\n",
              "    }\n",
              "\n",
              "    .colab-df-convert:hover {\n",
              "      background-color: #E2EBFA;\n",
              "      box-shadow: 0px 1px 2px rgba(60, 64, 67, 0.3), 0px 1px 3px 1px rgba(60, 64, 67, 0.15);\n",
              "      fill: #174EA6;\n",
              "    }\n",
              "\n",
              "    .colab-df-buttons div {\n",
              "      margin-bottom: 4px;\n",
              "    }\n",
              "\n",
              "    [theme=dark] .colab-df-convert {\n",
              "      background-color: #3B4455;\n",
              "      fill: #D2E3FC;\n",
              "    }\n",
              "\n",
              "    [theme=dark] .colab-df-convert:hover {\n",
              "      background-color: #434B5C;\n",
              "      box-shadow: 0px 1px 3px 1px rgba(0, 0, 0, 0.15);\n",
              "      filter: drop-shadow(0px 1px 2px rgba(0, 0, 0, 0.3));\n",
              "      fill: #FFFFFF;\n",
              "    }\n",
              "  </style>\n",
              "\n",
              "    <script>\n",
              "      const buttonEl =\n",
              "        document.querySelector('#df-20a47481-7d38-482f-b1dd-a945e4bc997b button.colab-df-convert');\n",
              "      buttonEl.style.display =\n",
              "        google.colab.kernel.accessAllowed ? 'block' : 'none';\n",
              "\n",
              "      async function convertToInteractive(key) {\n",
              "        const element = document.querySelector('#df-20a47481-7d38-482f-b1dd-a945e4bc997b');\n",
              "        const dataTable =\n",
              "          await google.colab.kernel.invokeFunction('convertToInteractive',\n",
              "                                                    [key], {});\n",
              "        if (!dataTable) return;\n",
              "\n",
              "        const docLinkHtml = 'Like what you see? Visit the ' +\n",
              "          '<a target=\"_blank\" href=https://colab.research.google.com/notebooks/data_table.ipynb>data table notebook</a>'\n",
              "          + ' to learn more about interactive tables.';\n",
              "        element.innerHTML = '';\n",
              "        dataTable['output_type'] = 'display_data';\n",
              "        await google.colab.output.renderOutput(dataTable, element);\n",
              "        const docLink = document.createElement('div');\n",
              "        docLink.innerHTML = docLinkHtml;\n",
              "        element.appendChild(docLink);\n",
              "      }\n",
              "    </script>\n",
              "  </div>\n",
              "\n",
              "\n",
              "<div id=\"df-bec13dab-898b-4aff-934b-677834e7da11\">\n",
              "  <button class=\"colab-df-quickchart\" onclick=\"quickchart('df-bec13dab-898b-4aff-934b-677834e7da11')\"\n",
              "            title=\"Suggest charts\"\n",
              "            style=\"display:none;\">\n",
              "\n",
              "<svg xmlns=\"http://www.w3.org/2000/svg\" height=\"24px\"viewBox=\"0 0 24 24\"\n",
              "     width=\"24px\">\n",
              "    <g>\n",
              "        <path d=\"M19 3H5c-1.1 0-2 .9-2 2v14c0 1.1.9 2 2 2h14c1.1 0 2-.9 2-2V5c0-1.1-.9-2-2-2zM9 17H7v-7h2v7zm4 0h-2V7h2v10zm4 0h-2v-4h2v4z\"/>\n",
              "    </g>\n",
              "</svg>\n",
              "  </button>\n",
              "\n",
              "<style>\n",
              "  .colab-df-quickchart {\n",
              "      --bg-color: #E8F0FE;\n",
              "      --fill-color: #1967D2;\n",
              "      --hover-bg-color: #E2EBFA;\n",
              "      --hover-fill-color: #174EA6;\n",
              "      --disabled-fill-color: #AAA;\n",
              "      --disabled-bg-color: #DDD;\n",
              "  }\n",
              "\n",
              "  [theme=dark] .colab-df-quickchart {\n",
              "      --bg-color: #3B4455;\n",
              "      --fill-color: #D2E3FC;\n",
              "      --hover-bg-color: #434B5C;\n",
              "      --hover-fill-color: #FFFFFF;\n",
              "      --disabled-bg-color: #3B4455;\n",
              "      --disabled-fill-color: #666;\n",
              "  }\n",
              "\n",
              "  .colab-df-quickchart {\n",
              "    background-color: var(--bg-color);\n",
              "    border: none;\n",
              "    border-radius: 50%;\n",
              "    cursor: pointer;\n",
              "    display: none;\n",
              "    fill: var(--fill-color);\n",
              "    height: 32px;\n",
              "    padding: 0;\n",
              "    width: 32px;\n",
              "  }\n",
              "\n",
              "  .colab-df-quickchart:hover {\n",
              "    background-color: var(--hover-bg-color);\n",
              "    box-shadow: 0 1px 2px rgba(60, 64, 67, 0.3), 0 1px 3px 1px rgba(60, 64, 67, 0.15);\n",
              "    fill: var(--button-hover-fill-color);\n",
              "  }\n",
              "\n",
              "  .colab-df-quickchart-complete:disabled,\n",
              "  .colab-df-quickchart-complete:disabled:hover {\n",
              "    background-color: var(--disabled-bg-color);\n",
              "    fill: var(--disabled-fill-color);\n",
              "    box-shadow: none;\n",
              "  }\n",
              "\n",
              "  .colab-df-spinner {\n",
              "    border: 2px solid var(--fill-color);\n",
              "    border-color: transparent;\n",
              "    border-bottom-color: var(--fill-color);\n",
              "    animation:\n",
              "      spin 1s steps(1) infinite;\n",
              "  }\n",
              "\n",
              "  @keyframes spin {\n",
              "    0% {\n",
              "      border-color: transparent;\n",
              "      border-bottom-color: var(--fill-color);\n",
              "      border-left-color: var(--fill-color);\n",
              "    }\n",
              "    20% {\n",
              "      border-color: transparent;\n",
              "      border-left-color: var(--fill-color);\n",
              "      border-top-color: var(--fill-color);\n",
              "    }\n",
              "    30% {\n",
              "      border-color: transparent;\n",
              "      border-left-color: var(--fill-color);\n",
              "      border-top-color: var(--fill-color);\n",
              "      border-right-color: var(--fill-color);\n",
              "    }\n",
              "    40% {\n",
              "      border-color: transparent;\n",
              "      border-right-color: var(--fill-color);\n",
              "      border-top-color: var(--fill-color);\n",
              "    }\n",
              "    60% {\n",
              "      border-color: transparent;\n",
              "      border-right-color: var(--fill-color);\n",
              "    }\n",
              "    80% {\n",
              "      border-color: transparent;\n",
              "      border-right-color: var(--fill-color);\n",
              "      border-bottom-color: var(--fill-color);\n",
              "    }\n",
              "    90% {\n",
              "      border-color: transparent;\n",
              "      border-bottom-color: var(--fill-color);\n",
              "    }\n",
              "  }\n",
              "</style>\n",
              "\n",
              "  <script>\n",
              "    async function quickchart(key) {\n",
              "      const quickchartButtonEl =\n",
              "        document.querySelector('#' + key + ' button');\n",
              "      quickchartButtonEl.disabled = true;  // To prevent multiple clicks.\n",
              "      quickchartButtonEl.classList.add('colab-df-spinner');\n",
              "      try {\n",
              "        const charts = await google.colab.kernel.invokeFunction(\n",
              "            'suggestCharts', [key], {});\n",
              "      } catch (error) {\n",
              "        console.error('Error during call to suggestCharts:', error);\n",
              "      }\n",
              "      quickchartButtonEl.classList.remove('colab-df-spinner');\n",
              "      quickchartButtonEl.classList.add('colab-df-quickchart-complete');\n",
              "    }\n",
              "    (() => {\n",
              "      let quickchartButtonEl =\n",
              "        document.querySelector('#df-bec13dab-898b-4aff-934b-677834e7da11 button');\n",
              "      quickchartButtonEl.style.display =\n",
              "        google.colab.kernel.accessAllowed ? 'block' : 'none';\n",
              "    })();\n",
              "  </script>\n",
              "</div>\n",
              "    </div>\n",
              "  </div>\n"
            ],
            "application/vnd.google.colaboratory.intrinsic+json": {
              "type": "dataframe",
              "variable_name": "non_numeric_df"
            }
          },
          "metadata": {},
          "execution_count": 96
        }
      ],
      "source": [
        "non_numeric_df.head(5)"
      ]
    },
    {
      "cell_type": "markdown",
      "metadata": {
        "id": "aknGO_obVhYf"
      },
      "source": [
        "## Missing Values <a class=\"anchor\"><a id='Missing Values'></a></b><br>"
      ]
    },
    {
      "cell_type": "code",
      "execution_count": null,
      "metadata": {
        "id": "V4-wu6294gsz"
      },
      "outputs": [],
      "source": [
        "#Turning \"?\" into nan which is what python identifies missing values\n",
        "Oddmissingvalues = [\"?\",\"$\",\"%\",\"!\",\"*\",\"+\",\"_\",\"@\",\"€\",\" \",\"{\"]\n",
        "df.replace(Oddmissingvalues, np.nan, inplace = True)"
      ]
    },
    {
      "cell_type": "code",
      "execution_count": null,
      "metadata": {
        "colab": {
          "base_uri": "https://localhost:8080/"
        },
        "id": "zlQZ9VFdTI9k",
        "outputId": "90aa2742-3743-4e80-a280-99667a7543fe"
      },
      "outputs": [
        {
          "output_type": "execute_result",
          "data": {
            "text/plain": [
              "ID                         0\n",
              "Nationality                0\n",
              "Age                     4172\n",
              "DaysSinceCreation          0\n",
              "NameHash                   0\n",
              "DocIDHash               1001\n",
              "AverageLeadTime            0\n",
              "LodgingRevenue             0\n",
              "OtherRevenue               0\n",
              "BookingsCanceled           0\n",
              "BookingsNoShowed           0\n",
              "BookingsCheckedIn          0\n",
              "PersonsNights              0\n",
              "RoomNights                 0\n",
              "DistributionChannel        0\n",
              "MarketSegment              0\n",
              "SRHighFloor                0\n",
              "SRLowFloor                 0\n",
              "SRAccessibleRoom           0\n",
              "SRMediumFloor              0\n",
              "SRBathtub                  0\n",
              "SRShower                   0\n",
              "SRCrib                     0\n",
              "SRKingSizeBed              0\n",
              "SRTwinBed                  0\n",
              "SRNearElevator             0\n",
              "SRAwayFromElevator         0\n",
              "SRNoAlcoholInMiniBar       0\n",
              "SRQuietRoom                0\n",
              "dtype: int64"
            ]
          },
          "metadata": {},
          "execution_count": 98
        }
      ],
      "source": [
        "#Here we are specifically looking for all the Missing values in the native for of Nan\n",
        "\n",
        "pd.set_option('display.max_rows', 300)\n",
        "df.isna().sum()"
      ]
    },
    {
      "cell_type": "code",
      "execution_count": null,
      "metadata": {
        "colab": {
          "base_uri": "https://localhost:8080/"
        },
        "id": "Mf4lnsM7TPOW",
        "outputId": "84e5b96e-c32a-4bea-8b1c-35975201c281"
      },
      "outputs": [
        {
          "output_type": "execute_result",
          "data": {
            "text/plain": [
              "ID                      0.000000\n",
              "Nationality             0.000000\n",
              "Age                     3.733901\n",
              "DaysSinceCreation       0.000000\n",
              "NameHash                0.000000\n",
              "DocIDHash               0.895886\n",
              "AverageLeadTime         0.000000\n",
              "LodgingRevenue          0.000000\n",
              "OtherRevenue            0.000000\n",
              "BookingsCanceled        0.000000\n",
              "BookingsNoShowed        0.000000\n",
              "BookingsCheckedIn       0.000000\n",
              "PersonsNights           0.000000\n",
              "RoomNights              0.000000\n",
              "DistributionChannel     0.000000\n",
              "MarketSegment           0.000000\n",
              "SRHighFloor             0.000000\n",
              "SRLowFloor              0.000000\n",
              "SRAccessibleRoom        0.000000\n",
              "SRMediumFloor           0.000000\n",
              "SRBathtub               0.000000\n",
              "SRShower                0.000000\n",
              "SRCrib                  0.000000\n",
              "SRKingSizeBed           0.000000\n",
              "SRTwinBed               0.000000\n",
              "SRNearElevator          0.000000\n",
              "SRAwayFromElevator      0.000000\n",
              "SRNoAlcoholInMiniBar    0.000000\n",
              "SRQuietRoom             0.000000\n",
              "dtype: float64"
            ]
          },
          "metadata": {},
          "execution_count": 99
        }
      ],
      "source": [
        "#This is just a percentage of the missing values in Nan for to explore the idea of possible deleting or adding mode and how much of the data it would effect\n",
        "\n",
        "df.isna().sum()/len(df)*100"
      ]
    },
    {
      "cell_type": "code",
      "execution_count": null,
      "metadata": {
        "colab": {
          "base_uri": "https://localhost:8080/"
        },
        "id": "onwBqh8JTYVt",
        "outputId": "d8f5c993-6235-46ad-94ee-983429bc47a4"
      },
      "outputs": [
        {
          "output_type": "execute_result",
          "data": {
            "text/plain": [
              "<Axes: >"
            ]
          },
          "metadata": {},
          "execution_count": 100
        },
        {
          "output_type": "display_data",
          "data": {
            "text/plain": [
              "<Figure size 2000x600 with 2 Axes>"
            ],
            "image/png": "[encoded data removed]"
          },
          "metadata": {}
        }
      ],
      "source": [
        "mno.matrix(df, figsize = (20, 6))"
      ]
    },
    {
      "cell_type": "code",
      "execution_count": null,
      "metadata": {
        "id": "Hbm5K5hQT3FS"
      },
      "outputs": [],
      "source": [
        "# To fill in the NAN we will use the KNN Imputer and for that we first need to convert necessary columns to numeric\n",
        "\n",
        "# Initialize the KNN Imputer\n",
        "imputer = KNNImputer(n_neighbors=5, weights='uniform', metric='nan_euclidean')\n",
        "\n",
        "# Fit the imputer and transform your data (this will return a numpy array)\n",
        "imputed_data = imputer.fit_transform(df.select_dtypes(include=[np.number]))\n",
        "\n",
        "# Convert the imputed numpy array back to a DataFrame\n",
        "imputed_df = pd.DataFrame(imputed_data, columns=df.select_dtypes(include=[np.number]).columns)\n",
        "\n",
        "# If you want to update your original dataframe with the imputed values for the numeric columns\n",
        "df.update(imputed_df)\n",
        "\n",
        "# Display the first few rows of the dataframe to check the imputed values\n",
        "print(df.head())"
      ]
    },
    {
      "cell_type": "code",
      "execution_count": null,
      "metadata": {
        "id": "MjkFpwNFVV7t"
      },
      "outputs": [],
      "source": [
        "#Here we are specifically looking for all the Missing values in the native for of Nan\n",
        "\n",
        "pd.set_option('display.max_rows', 300)\n",
        "df.isna().sum()"
      ]
    },
    {
      "cell_type": "code",
      "execution_count": null,
      "metadata": {
        "id": "GpD6kCDVwLZL"
      },
      "outputs": [],
      "source": [
        "# Find duplicate 'NameHash' values\n",
        "duplicates = df[df.duplicated('NameHash', keep=False)].sort_values('NameHash')\n",
        "\n",
        "# Displaying the duplicates\n",
        "print(duplicates.count())"
      ]
    },
    {
      "cell_type": "code",
      "execution_count": null,
      "metadata": {
        "id": "eq4xDXX1yOmE"
      },
      "outputs": [],
      "source": [
        "#This take the direct (here it doing with age and average lead time) and turns them into numeric so it can be averaged\n",
        "df['Age'] = pd.to_numeric(df['Age'], errors='coerce')\n",
        "df['AverageLeadTime'] = pd.to_numeric(df['AverageLeadTime'], errors='coerce')\n",
        "\n",
        "# Define the aggregation rules for each column, ensuring 'mean' is only used on numeric columns\n",
        "aggregation_rules = {\n",
        "    'ID': 'first',\n",
        "    'Nationality': 'first',\n",
        "    'Age': 'mean',\n",
        "    'DaysSinceCreation': 'first',\n",
        "    'DocIDHash': 'first',\n",
        "    'AverageLeadTime': 'mean',\n",
        "    'LodgingRevenue': 'sum',\n",
        "    'OtherRevenue': 'sum',\n",
        "    'BookingsCanceled': 'sum',\n",
        "    'BookingsNoShowed': 'sum',\n",
        "    'BookingsCheckedIn': 'sum',\n",
        "    'PersonsNights': 'sum',\n",
        "    'RoomNights': 'sum',\n",
        "    'DistributionChannel': 'first',\n",
        "    'MarketSegment': 'first',\n",
        "    # Ensure special request fields are handled appropriately (e.g., 'max' for binary indicators)\n",
        "    'SRHighFloor': 'max',\n",
        "    'SRLowFloor': 'max',\n",
        "    'SRAccessibleRoom': 'max',\n",
        "    'SRMediumFloor': 'max',\n",
        "    'SRBathtub': 'max',\n",
        "    'SRShower': 'max',\n",
        "    'SRCrib': 'max',\n",
        "    'SRKingSizeBed': 'max',\n",
        "    'SRTwinBed': 'max',\n",
        "    'SRNearElevator': 'max',\n",
        "    'SRAwayFromElevator': 'max',\n",
        "    'SRNoAlcoholInMiniBar': 'max',\n",
        "    'SRQuietRoom': 'max'\n",
        "}\n",
        "\n",
        "# Group by 'NameHash' and apply the aggregation rules\n",
        "df = df.groupby('NameHash').agg(aggregation_rules).reset_index()\n",
        "\n",
        "# Display the first few rows of the processed DataFrame to verify the results\n",
        "print(df.head())"
      ]
    },
    {
      "cell_type": "code",
      "execution_count": null,
      "metadata": {
        "id": "uax7UJhOREcE"
      },
      "outputs": [],
      "source": [
        "#Checking missing values again\n",
        "pd.set_option('display.max_rows', 300)\n",
        "df.isna().sum()"
      ]
    },
    {
      "cell_type": "code",
      "execution_count": null,
      "metadata": {
        "id": "NrGHFasR38zH"
      },
      "outputs": [],
      "source": [
        "# To fill in the NAN we will use the KNN Imputer and for that we first need to convert necessary columns to numeric\n",
        "\n",
        "# Initialize the KNN Imputer\n",
        "imputer = KNNImputer(n_neighbors=5, weights='uniform', metric='nan_euclidean')\n",
        "\n",
        "# Fit the imputer and transform your data (this will return a numpy array)\n",
        "imputed_data = imputer.fit_transform(df.select_dtypes(include=[np.number]))\n",
        "\n",
        "# Convert the imputed numpy array back to a DataFrame\n",
        "imputed_df = pd.DataFrame(imputed_data, columns=df.select_dtypes(include=[np.number]).columns)\n",
        "\n",
        "# If you want to update your original dataframe with the imputed values for the numeric columns\n",
        "df.update(imputed_df)\n",
        "\n",
        "# Display the first few rows of the dataframe to check the imputed values\n",
        "print(df.head())"
      ]
    },
    {
      "cell_type": "code",
      "execution_count": null,
      "metadata": {
        "id": "HIdHWHEC3_m8"
      },
      "outputs": [],
      "source": [
        "#Checking missing values again\n",
        "pd.set_option('display.max_rows', 300)\n",
        "df.isna().sum()"
      ]
    },
    {
      "cell_type": "code",
      "execution_count": null,
      "metadata": {
        "id": "B7hDT5qy6xNN"
      },
      "outputs": [],
      "source": [
        "#Drop the left over NaN and checking missing values again\n",
        "df = df.dropna(subset=['DocIDHash'])\n",
        "pd.set_option('display.max_rows', 300)\n",
        "df.isna().sum()"
      ]
    },
    {
      "cell_type": "markdown",
      "metadata": {
        "id": "KKrQT8dPqsr-"
      },
      "source": [
        "## Visualization <a class=\"anchor\"><a id='Vis'></a></b><br>"
      ]
    },
    {
      "cell_type": "markdown",
      "source": [
        "### Outliers <a class=\"Vis\"><a id='Out'></a></b><br>"
      ],
      "metadata": {
        "id": "tv-yGbbUNLRw"
      }
    },
    {
      "cell_type": "code",
      "execution_count": null,
      "metadata": {
        "id": "hFOeXTVIr-av"
      },
      "outputs": [],
      "source": [
        "main_colour= 'darkcyan'"
      ]
    },
    {
      "cell_type": "code",
      "execution_count": null,
      "metadata": {
        "id": "bXvPs3IFsA-V"
      },
      "outputs": [],
      "source": [
        "palette= 'BrBG'"
      ]
    },
    {
      "cell_type": "code",
      "execution_count": null,
      "metadata": {
        "id": "ziZsUPh4qz0-"
      },
      "outputs": [],
      "source": [
        "non_metric_features = ['NameHash','DocIDHash',\"Nationality\",\"DistributionChannel\",\"MarketSegment\",\"SRHighFloor\",\"SRLowFloor\",\"SRAccessibleRoom\",\"SRMediumFloor\",\"SRBathtub\",\"SRShower\",\"SRCrib\",\"SRKingSizeBed\",\"SRTwinBed\",\"SRNearElevator\",\"SRAwayFromElevator\",\"SRNoAlcoholInMiniBar\",\"SRQuietRoom\"]\n",
        "metric_features = df.columns.drop(non_metric_features).to_list()"
      ]
    },
    {
      "cell_type": "code",
      "execution_count": null,
      "metadata": {
        "id": "Mq2Vqsb1r4GK"
      },
      "outputs": [],
      "source": [
        "def hist_box_maker(df,titl, figx, figy):\n",
        "    num_of_rows = len(df.columns)\n",
        "    fig, axes = plt.subplots(num_of_rows, ceil((len(df.columns)*2)/num_of_rows), figsize=(figx, figy))\n",
        "    temp = (list(df.columns)*2)\n",
        "    temp.sort()\n",
        "    # Plot data\n",
        "    # Iterate across axes objects and associate each histogram:\n",
        "    i = 0\n",
        "    for ax, feat in zip(axes.flatten(), temp):\n",
        "        if i%2 == 0:\n",
        "            ax.hist(df[feat], bins = 50,color=main_colour)\n",
        "            ax.set_title(feat,y=0.4,x=2.5)\n",
        "            pltiswork=feat\n",
        "        else:\n",
        "            sns.boxplot(x=df[pltiswork], ax = ax,color=main_colour)\n",
        "        i+=1\n",
        "    title = titl\n",
        "    plt.suptitle(title,y=0.90)\n",
        "    plt.show()"
      ]
    },
    {
      "cell_type": "code",
      "execution_count": null,
      "metadata": {
        "id": "XKWWLrkhq1vy"
      },
      "outputs": [],
      "source": [
        "hist_box_maker(df[metric_features],\"Outlier Detection\",16,16)"
      ]
    },
    {
      "cell_type": "markdown",
      "source": [
        "### Analysis of the distributions <a class=\"Vis\"><a id='Ana_dis'></a></b><br>"
      ],
      "metadata": {
        "id": "GMg1DACuM7uH"
      }
    },
    {
      "cell_type": "markdown",
      "metadata": {
        "id": "wJ9aPuAQwc6R"
      },
      "source": [
        "Analysis of the distributions:\n",
        "\n",
        "*   Age appears to have outliers on the lower and higher side.\n",
        "*   All other variables except the DaysSinceCreation variable seem to have outliers on the higher side"
      ]
    },
    {
      "cell_type": "code",
      "execution_count": null,
      "metadata": {
        "id": "IP0W5Ce_sUhW"
      },
      "outputs": [],
      "source": [
        "def categ_abs_freq (nr_columns, nr_rows, features):\n",
        "    sns.set()\n",
        "\n",
        "    fig, axes = plt.subplots(nr_rows, nr_columns, figsize=(20, 5))\n",
        "\n",
        "\n",
        "    for ax, feat in zip(axes.flatten(), features):\n",
        "        sns.countplot(x=df[feat].astype(object), ax=ax, color=main_colour)\n",
        "\n",
        "    title = \"Categorical Variables' Absolute Frequencies\"\n",
        "    plt.suptitle(title, fontsize= '20', y=1.05)\n",
        "\n",
        "    plt.show()\n",
        "    return"
      ]
    },
    {
      "cell_type": "code",
      "execution_count": null,
      "metadata": {
        "id": "RidelSUdr5es"
      },
      "outputs": [],
      "source": [
        "feat_1= ['DistributionChannel','MarketSegment',]\n",
        "categ_abs_freq(2,1,feat_1)"
      ]
    },
    {
      "cell_type": "code",
      "execution_count": null,
      "metadata": {
        "id": "JbdWo-BYsJfX"
      },
      "outputs": [],
      "source": [
        "feat_2= ['SRHighFloor','SRLowFloor','SRMediumFloor']\n",
        "categ_abs_freq(3,1,feat_2)"
      ]
    },
    {
      "cell_type": "code",
      "execution_count": null,
      "metadata": {
        "id": "tbXtQ8YesV_7"
      },
      "outputs": [],
      "source": [
        "feat_3= ['SRAccessibleRoom','SRBathtub','SRShower']\n",
        "categ_abs_freq(3,1,feat_3)"
      ]
    },
    {
      "cell_type": "code",
      "execution_count": null,
      "metadata": {
        "id": "UwuK1a5LtFFa"
      },
      "outputs": [],
      "source": [
        "feat_4= ['SRCrib','SRKingSizeBed', 'SRTwinBed']\n",
        "categ_abs_freq(3,1,feat_4)"
      ]
    },
    {
      "cell_type": "code",
      "execution_count": null,
      "metadata": {
        "id": "2XQf30jkukvv"
      },
      "outputs": [],
      "source": [
        "feat_5= ['SRNoAlcoholInMiniBar','SRQuietRoom']\n",
        "categ_abs_freq(2,1,feat_5)"
      ]
    },
    {
      "cell_type": "code",
      "execution_count": null,
      "metadata": {
        "id": "Ac8tWzmAumY7"
      },
      "outputs": [],
      "source": [
        "feat_6= ['SRNearElevator','SRAwayFromElevator']\n",
        "categ_abs_freq(2,1,feat_6)"
      ]
    },
    {
      "cell_type": "markdown",
      "metadata": {
        "id": "uI91OK4nwlwf"
      },
      "source": [
        "The main Distribution Channel is distinctly TravelAgent/Operator.\n",
        "\n",
        "According to the previous Market Segmentation, large part of the customers was classified as Other, followed by Direct and Travel Agent/Operator."
      ]
    },
    {
      "cell_type": "markdown",
      "metadata": {
        "id": "fCr8G0BgP9x4"
      },
      "source": [
        "## Correlations <a class=\"anchor\"><a id='Cor'></a></b><br>"
      ]
    },
    {
      "cell_type": "code",
      "execution_count": null,
      "metadata": {
        "id": "TzSdIYv5uvh-"
      },
      "outputs": [],
      "source": [
        "#Adapted from https://seaborn.pydata.org/examples/many_pairwise_correlations.html\n",
        "\n",
        "def correlation_matrix (df, metric_features):\n",
        "\n",
        "    '''\n",
        "    Pass a dataframe and the dataframe metric features,\n",
        "    and plots the correlation matrix (all the correlations\n",
        "    between the correspondent metric features).\n",
        "\n",
        "    Arguments:\n",
        "        df (dataframe): dataframe\n",
        "        metric_features (list): df metric features\n",
        "\n",
        "    '''\n",
        "\n",
        "    mask = np.triu(np.ones_like(df[metric_features].corr(method='kendall'), dtype=bool))\n",
        "\n",
        "\n",
        "    # Set up the matplotlib figure\n",
        "    f, ax = plt.subplots(figsize=(19, 17))\n",
        "\n",
        "\n",
        "    # Generate a custom diverging colormap\n",
        "    cmap = sns.diverging_palette(230, 20, as_cmap=True)\n",
        "\n",
        "\n",
        "    # Draw the heatmap with the mask and correct aspect ratio\n",
        "    sns.heatmap(df[metric_features].corr(method='kendall'), annot = True, mask=mask, cmap=palette, vmax=.3, center=0,\n",
        "                square=True, linewidths=.5, cbar_kws={\"shrink\": .5})\n",
        "\n",
        "    plt.title('Correlation Between Variables', size=20)\n",
        "\n",
        "    return"
      ]
    },
    {
      "cell_type": "code",
      "execution_count": null,
      "metadata": {
        "id": "72_U6HGWuoYh"
      },
      "outputs": [],
      "source": [
        "correlation_matrix(df,metric_features)"
      ]
    },
    {
      "cell_type": "markdown",
      "metadata": {
        "id": "75BilHXwvVvP"
      },
      "source": [
        "  In general, customers do not have any preference for the Hotel Floor, regarding room characteristics, bed characteristics, MiniBar and quietness and the distance to the Elevator.\n",
        "\n",
        "\n",
        "\n",
        "\n"
      ]
    },
    {
      "cell_type": "markdown",
      "metadata": {
        "id": "pUtB8GFRQGQh"
      },
      "source": [
        "## Feature Engineering <a class=\"anchor\"><a id='Fea_eng'></a></b><br>"
      ]
    },
    {
      "cell_type": "code",
      "execution_count": null,
      "metadata": {
        "id": "25gW9I0uwi8A"
      },
      "outputs": [],
      "source": [
        "#Difference between Ravenue of LodgingRevenue and OtherRevenue\n",
        "\n",
        "revenue_data = df[['LodgingRevenue', 'OtherRevenue']]\n",
        "\n",
        "# Plotting the bar chart\n",
        "revenue_data.sum().plot(kind='bar', color=['blue', 'orange'])\n",
        "plt.title('Total Revenue Comparison')\n",
        "plt.xlabel('Revenue Type')\n",
        "plt.ylabel('Total Revenue')\n",
        "plt.xticks(rotation=0)  # Rotate x-labels to be horizontal\n",
        "plt.show()"
      ]
    },
    {
      "cell_type": "code",
      "execution_count": null,
      "metadata": {
        "id": "21vHBMRcgBF5"
      },
      "outputs": [],
      "source": [
        "# BOXPLOT For Age column\n",
        "\n",
        "subPlots_Title_fontSize = 12\n",
        "subPlots_xAxis_fontSize = 10\n",
        "subPlots_yAxis_fontSize = 10\n",
        "subPlots_label_fontSize = 10\n",
        "heatmaps_text_fontSize = 8\n",
        "\n",
        "plots_Title_fontSize = 14\n",
        "plots_Title_textColour = 'black'\n",
        "\n",
        "plots_Legend_fontSize = 12\n",
        "plots_Legend_textColour = 'black'\n",
        "\n",
        "plots_barTexts_fontSize = 8\n",
        "\n",
        "\n",
        "plt.boxplot(df['Age'].dropna())  # Remove NaN values and plot the boxplot\n",
        "plt.title('Boxplot of Age')\n",
        "plt.ylabel('Age')\n",
        "plt.show()"
      ]
    },
    {
      "cell_type": "code",
      "execution_count": null,
      "metadata": {
        "id": "HzGbrdl0gFyO"
      },
      "outputs": [],
      "source": [
        "#AverageLeadTime on Scatter Plot of Average lead time\n",
        "\n",
        "plt.figure(figsize=(8, 6))  # Adjust the size of the plot if needed\n",
        "plt.scatter(range(len(df)), df['AverageLeadTime'], alpha=0.5)  # Plotting the scatter plot\n",
        "plt.title('Scatter Plot of Average Lead Time')\n",
        "plt.xlabel('Index')\n",
        "plt.ylabel('Days')\n",
        "plt.show()"
      ]
    },
    {
      "cell_type": "code",
      "execution_count": null,
      "metadata": {
        "id": "F7NmbFvegMnH"
      },
      "outputs": [],
      "source": [
        "selected_columns = df[['BookingsCanceled', 'BookingsNoShowed', 'BookingsCheckedIn']]\n",
        "print(selected_columns)"
      ]
    },
    {
      "cell_type": "code",
      "execution_count": null,
      "metadata": {
        "id": "tDoQvUXygSUx"
      },
      "outputs": [],
      "source": [
        "# Check the BookingsCheckedin qniqueness\n",
        "unique_in = df['BookingsCheckedIn'].unique()\n",
        "print(unique_in)"
      ]
    },
    {
      "cell_type": "code",
      "execution_count": null,
      "metadata": {
        "id": "CtbeW-Gkg1br"
      },
      "outputs": [],
      "source": [
        "# Check the BookingsCanceled uniqueness\n",
        "unique_canceled = df['BookingsCanceled'].unique()\n",
        "print(unique_canceled)"
      ]
    },
    {
      "cell_type": "code",
      "execution_count": null,
      "metadata": {
        "id": "Cecz-fB2g6ld"
      },
      "outputs": [],
      "source": [
        "# Check the BookingsNoShowed uniqueness\n",
        "unique_noshowed = df['BookingsNoShowed'].unique()\n",
        "print(unique_noshowed)"
      ]
    },
    {
      "cell_type": "code",
      "execution_count": null,
      "metadata": {
        "id": "yo1O3HgihAEV"
      },
      "outputs": [],
      "source": [
        "counts = df[['BookingsCanceled', 'BookingsNoShowed', 'BookingsCheckedIn']].sum()\n",
        "\n",
        "plt.figure(figsize=[9,9])\n",
        "plt.pie(counts, labels=counts.index, explode=[0.05, 0.05, 0.05], autopct='%0.3f%%', pctdistance=0.7, startangle=45, labeldistance=1.05, rotatelabels=False)\n",
        "plt.title('Booking Types Distribution', fontsize=15, fontweight='bold')\n",
        "legend = plt.legend(loc='lower right', title='Booking Type')\n",
        "legend.get_title().set_fontweight('bold')\n",
        "plt.show()"
      ]
    },
    {
      "cell_type": "code",
      "execution_count": null,
      "metadata": {
        "id": "l6UAPTp1hDqI"
      },
      "outputs": [],
      "source": [
        "# Calculate value counts for each column\n",
        "high_floor_counts = df['SRAwayFromElevator'].value_counts()\n",
        "low_floor_counts = df['SRNearElevator'].value_counts()\n",
        "medium_floor_counts = df['SRNoAlcoholInMiniBar'].value_counts()\n",
        "\n",
        "# Plotting pie chart for 'SRAwayFromElevator'\n",
        "plt.figure(figsize=(15, 5))\n",
        "plt.subplot(1, 3, 1)\n",
        "plt.pie(high_floor_counts, labels=high_floor_counts.index, autopct='%1.1f%%', colors=['skyblue', 'lightcoral'])\n",
        "plt.title('SRAwayFromElevator')\n",
        "\n",
        "# Plotting pie chart for 'SRNearElevator'\n",
        "plt.subplot(1, 3, 2)\n",
        "plt.pie(low_floor_counts, labels=low_floor_counts.index, autopct='%1.1f%%', colors=['skyblue', 'lightcoral'])\n",
        "plt.title('SRNearElevator')\n",
        "\n",
        "# Plotting pie chart for 'SRNoAlcoholInMiniBar'\n",
        "plt.subplot(1, 3, 3)\n",
        "plt.pie(medium_floor_counts, labels=medium_floor_counts.index, autopct='%1.1f%%', colors=['skyblue', 'lightcoral'])\n",
        "plt.title('SRNoAlcoholInMiniBar')\n",
        "\n",
        "plt.tight_layout()\n",
        "plt.show()"
      ]
    },
    {
      "cell_type": "code",
      "execution_count": null,
      "metadata": {
        "id": "G3B0joLujxXN"
      },
      "outputs": [],
      "source": [
        "# Calculate value counts for each column\n",
        "high_floor_counts = df['SRHighFloor'].value_counts()\n",
        "low_floor_counts = df['SRLowFloor'].value_counts()\n",
        "medium_floor_counts = df['SRMediumFloor'].value_counts()\n",
        "\n",
        "# Plotting pie chart for 'SRHighFloor'\n",
        "plt.figure(figsize=(15, 5))\n",
        "plt.subplot(1, 3, 1)\n",
        "plt.pie(high_floor_counts, labels=high_floor_counts.index, autopct='%1.1f%%', colors=['skyblue', 'lightcoral'])\n",
        "plt.title('SRHighFloor')\n",
        "\n",
        "# Plotting pie chart for 'SRLowFloor'\n",
        "plt.subplot(1, 3, 2)\n",
        "plt.pie(low_floor_counts, labels=low_floor_counts.index, autopct='%1.1f%%', colors=['skyblue', 'lightcoral'])\n",
        "plt.title('SRLowFloor')\n",
        "\n",
        "# Plotting pie chart for 'SRMediumFloor'\n",
        "plt.subplot(1, 3, 3)\n",
        "plt.pie(medium_floor_counts, labels=medium_floor_counts.index, autopct='%1.1f%%', colors=['skyblue', 'lightcoral'])\n",
        "plt.title('SRMediumFloor')\n",
        "\n",
        "plt.tight_layout()\n",
        "plt.show()"
      ]
    },
    {
      "cell_type": "code",
      "execution_count": null,
      "metadata": {
        "id": "vofqQ49bhKLj"
      },
      "outputs": [],
      "source": [
        "pip install openpyxl"
      ]
    },
    {
      "cell_type": "code",
      "execution_count": null,
      "metadata": {
        "id": "nIb-uU3AhaEK"
      },
      "outputs": [],
      "source": [
        "df = df[df['Age'] > 0] # Remove negative & null values\n",
        "df = df[df['AverageLeadTime'] >= 0]\n",
        "\n",
        "print('The total number of negative values of age is ', len(df[df['Age'] < 0]))\n",
        "print('The total number of missing values of age column is', df['Age'].isnull().sum())\n",
        "print('The total number of negative values of averageLeadTime is ', len(df[df['AverageLeadTime'] < 0]))\n",
        "\n",
        "#df.shape"
      ]
    },
    {
      "cell_type": "code",
      "execution_count": null,
      "metadata": {
        "id": "nTiMn5P3hgKM"
      },
      "outputs": [],
      "source": [
        "# Remove Columns\n",
        "cols = ['DocIDHash', 'NameHash']\n",
        "df.drop(cols,axis = 1, inplace = True)\n",
        "\n",
        "# Change Type\n",
        "df['ID'] = df['ID'].astype(str)"
      ]
    },
    {
      "cell_type": "code",
      "execution_count": null,
      "metadata": {
        "id": "VWX-Izhchj1x"
      },
      "outputs": [],
      "source": [
        "top_15 = df['Nationality'].value_counts().head(15)\n",
        "fig = px.pie( values = top_15.values,names=top_15.keys(), title='Distributoion of Nationalities')\n",
        "fig.show()"
      ]
    },
    {
      "cell_type": "code",
      "execution_count": null,
      "metadata": {
        "id": "vWYd6gKaiKKj"
      },
      "outputs": [],
      "source": [
        "# Remove outliars\n",
        "df = df[df['Age'] < 100]\n",
        "# Remove ID column\n",
        "df.drop('ID', axis = 1, inplace = True)"
      ]
    },
    {
      "cell_type": "code",
      "execution_count": null,
      "metadata": {
        "id": "jjG3x_1sig2K"
      },
      "outputs": [],
      "source": [
        "num_of_countries = df['Nationality'].nunique()\n",
        "print('The number of nationalities before preprocessing is %s' %num_of_countries)"
      ]
    },
    {
      "cell_type": "code",
      "execution_count": null,
      "metadata": {
        "id": "-oPA35AHikcY"
      },
      "outputs": [],
      "source": [
        "# Remove unimportant nationalities\n",
        "names = df.groupby('Nationality').count().sort_values(by = 'Age', ascending = False)\n",
        "top_15_nationalities = list(names[names['Age'] < 1000]['Age'].keys())\n",
        "\n",
        "for i in top_15_nationalities:\n",
        "    df['Nationality'] = df['Nationality'].str.replace(i,'')\n",
        "\n",
        "print('The number of nationalities after preprocessing is %s' %df['Nationality'].nunique())"
      ]
    },
    {
      "cell_type": "code",
      "execution_count": null,
      "metadata": {
        "id": "EHEMGpOyip8n"
      },
      "outputs": [],
      "source": [
        "# Encoding Variables\n",
        "transformer = make_column_transformer(\n",
        "    (OneHotEncoder(sparse=False), ['Nationality', 'MarketSegment', 'DistributionChannel']),\n",
        "    remainder='passthrough')\n",
        "\n",
        "transformed = transformer.fit_transform(df)\n",
        "transformed_df = pd.DataFrame(transformed, columns=transformer.get_feature_names_out())\n",
        "\n",
        "# Concat the two tables\n",
        "transformed_df.reset_index(drop=True, inplace=True)\n",
        "df.reset_index(drop=True, inplace=True)\n",
        "df2 = pd.concat([transformed_df, df], axis=1)\n",
        "\n",
        "# Remove old columns\n",
        "df2.drop(['Nationality', 'MarketSegment', 'DistributionChannel'], axis = 1, inplace = True)\n",
        "print('The shape after encoding: {}'.format(df2.shape))"
      ]
    },
    {
      "cell_type": "code",
      "source": [
        "df2.head()"
      ],
      "metadata": {
        "id": "ua82qdX0Q1Oa"
      },
      "execution_count": null,
      "outputs": []
    },
    {
      "cell_type": "markdown",
      "metadata": {
        "id": "0JnasLDpPwUQ"
      },
      "source": [
        "## Normalization <a class=\"anchor\"><a id='Nor'></a></b><br>"
      ]
    },
    {
      "cell_type": "code",
      "execution_count": null,
      "metadata": {
        "id": "xbbG7P1Ki4gd"
      },
      "outputs": [],
      "source": [
        "# Normalize Data\n",
        "df_scaled = ((df2 - df2.min()) / (df2.min() + df2.max())) * 9 + 1\n",
        "\n",
        "\n",
        "\n",
        "#scaler = MinMaxScaler()\n",
        "#df_scaled = scaler.fit_transform(df2[numeric_df])\n",
        "#df_scaled\n",
        "#df_scaler_test = MinMaxScaler()\n",
        "#df_scaled_feat_test = df_scaler_test.fit_transform(df2[numeric_df])\n",
        "#df_scaled_feat_test"
      ]
    },
    {
      "cell_type": "code",
      "execution_count": null,
      "metadata": {
        "id": "Xn1t6o7Oi99L"
      },
      "outputs": [],
      "source": [
        "df_scaled.describe()"
      ]
    },
    {
      "cell_type": "code",
      "source": [
        "df_scaled = df_scaled.loc[:, ~df_scaled.columns.str.startswith('remainder__')]\n",
        "df_scaled.dtypes"
      ],
      "metadata": {
        "id": "t8_wgztQQ_9i"
      },
      "execution_count": null,
      "outputs": []
    },
    {
      "cell_type": "markdown",
      "metadata": {
        "id": "KO_TO_jLMLD9"
      },
      "source": [
        "# Feature Selection <a class=\"anchor\"><a id='Fea_Sel'></a></b><br>"
      ]
    },
    {
      "cell_type": "markdown",
      "metadata": {
        "id": "GGjpA2AyYDlo"
      },
      "source": [
        "## Pearson and Spearman Correlation <a class=\"Correlations\"><a id='Correlations'></a></b><br>"
      ]
    },
    {
      "cell_type": "code",
      "execution_count": null,
      "metadata": {
        "id": "x_3cTULbYjMB"
      },
      "outputs": [],
      "source": [
        "enconding_variables =df_scaled.columns[df_scaled.columns.str.startswith('x')]\n",
        "\n",
        "data_1 = df_scaled.drop(columns=enconding_variables)\n",
        "data_1"
      ]
    },
    {
      "cell_type": "markdown",
      "metadata": {
        "id": "M3SUI8tlYRXg"
      },
      "source": [
        "### Pearson Correlation <a class=\"Correlations\"><a id='PCA'></a></b><br>"
      ]
    },
    {
      "cell_type": "code",
      "execution_count": null,
      "metadata": {
        "id": "KQ-3Fj02YNyf"
      },
      "outputs": [],
      "source": [
        "# Compute the correlation matrix - Pearson\n",
        "corr = data_1.corr(method='pearson')\n",
        "\n",
        "# Generate a mask for the upper triangle\n",
        "mask = np.triu(np.ones_like(corr, dtype=bool))\n",
        "\n",
        "# Set up the matplotlib figure\n",
        "f, ax = plt.subplots(figsize=(11, 9))\n",
        "\n",
        "# Generate a custom diverging colormap\n",
        "cmap = sns.diverging_palette(240, 10, as_cmap=True)\n",
        "\n",
        "# Draw the heatmap with the mask and correct aspect ratio\n",
        "sns.heatmap(corr, mask = mask, cmap = 'RdBu', vmax = 1, vmin=-1, center = 0,\n",
        "            square = True, annot = True, linewidths = .5, cbar_kws = {\"shrink\": .5})"
      ]
    },
    {
      "cell_type": "code",
      "source": [
        "# Identify and print pairs with high correlation\n",
        "high_correlations = []\n",
        "for i in range(len(corr)):\n",
        "    for j in range(i+1, len(corr.columns)):\n",
        "        # Skip if column names are similar, indicating potential duplicates\n",
        "        if corr.index[i].replace('remainder__', '') == corr.columns[j].replace('remainder__', ''):\n",
        "            continue\n",
        "        # Check if the correlation is above 0.8 or below -0.8\n",
        "        if corr.iloc[i, j] > 0.8 or corr.iloc[i, j] < -0.8:\n",
        "            high_correlations.append((corr.index[i], corr.columns[j], corr.iloc[i, j]))\n",
        "\n",
        "# Print out the high correlations\n",
        "print(\"High correlations (Pearson):\")\n",
        "for col_pair in high_correlations:\n",
        "    print(f\"{col_pair[0]} and {col_pair[1]}: {col_pair[2]}\")\n"
      ],
      "metadata": {
        "id": "a8cGnKqmvbOC"
      },
      "execution_count": null,
      "outputs": []
    },
    {
      "cell_type": "markdown",
      "metadata": {
        "id": "AhNewyavZX0K"
      },
      "source": [
        "### Spearman Correlation <a class=\"Correlations\"><a id='Correlations'></a></b><br>"
      ]
    },
    {
      "cell_type": "code",
      "execution_count": null,
      "metadata": {
        "id": "7Me8k7pEZP3x"
      },
      "outputs": [],
      "source": [
        "# Compute the correlation matrix - Spearman\n",
        "corr = data_1.corr(method='spearman')\n",
        "\n",
        "# Generate a mask for the upper triangle\n",
        "mask = np.triu(np.ones_like(corr, dtype=bool))\n",
        "\n",
        "# Set up the matplotlib figure\n",
        "f, ax = plt.subplots(figsize=(11, 9))\n",
        "\n",
        "# Generate a custom diverging colormap\n",
        "#cmap = sns.diverging_palette(240, 10, as_cmap=True)\n",
        "\n",
        "# Draw the heatmap with the mask and correct aspect ratio\n",
        "sns.heatmap(corr, mask = mask, cmap = 'RdBu', vmax = 1, vmin=-1, center = 0,\n",
        "            square = True, annot = True, linewidths = .5, cbar_kws = {\"shrink\": .5})"
      ]
    },
    {
      "cell_type": "code",
      "source": [
        "corr = data_1.corr(method='spearman')  # Ensure using Spearman's correlation\n",
        "\n",
        "high_correlations = []\n",
        "for i in range(len(corr)):\n",
        "    for j in range(i+1, len(corr.columns)):\n",
        "        # Skip if column names are similar, indicating potential duplicates\n",
        "        if corr.index[i].replace('remainder__', '') == corr.columns[j].replace('remainder__', ''):\n",
        "            continue\n",
        "        # Check if the correlation is above 0.8 or below -0.8\n",
        "        if abs(corr.iloc[i, j]) > 0.8:\n",
        "            high_correlations.append((corr.index[i], corr.columns[j], corr.iloc[i, j]))\n",
        "\n",
        "# Print out the high correlations\n",
        "print(\"High correlations (Spearman):\")\n",
        "for col_pair in high_correlations:\n",
        "    print(f\"{col_pair[0]} and {col_pair[1]}: {col_pair[2]}\")"
      ],
      "metadata": {
        "id": "SNXej8lSvFLa"
      },
      "execution_count": null,
      "outputs": []
    },
    {
      "cell_type": "markdown",
      "metadata": {
        "id": "b8_rqFzY5Hbs"
      },
      "source": [
        "\n",
        "## Chi Squared <a class=\"Fea_Sel\"><a id='Chi Squared'></a></b><br>"
      ]
    },
    {
      "cell_type": "code",
      "execution_count": null,
      "metadata": {
        "id": "nCC7B9OZ5PCI"
      },
      "outputs": [],
      "source": [
        "from sklearn.feature_selection import chi2\n",
        "import pandas as pd\n",
        "from sklearn.model_selection import train_test_split\n",
        "from sklearn.feature_selection import RFE\n",
        "from sklearn.ensemble import RandomForestClassifier\n",
        "\n",
        "# Creating a binary target variable based on the median of 'LodgingRevenue'\n",
        "median_revenue = df_scaled['LodgingRevenue'].median()\n",
        "df_scaled['target'] = (df_scaled['LodgingRevenue'] > median_revenue).astype(int)\n",
        "df_scaled"
      ]
    },
    {
      "cell_type": "code",
      "source": [
        "# List of binary features\n",
        "binary_features = [\n",
        "    \"SRHighFloor\", \"SRLowFloor\", \"SRAccessibleRoom\",\n",
        "    \"SRMediumFloor\", \"SRBathtub\", \"SRShower\",\n",
        "    \"SRCrib\", \"SRKingSizeBed\", \"SRTwinBed\",\n",
        "    \"SRNearElevator\", \"SRAwayFromElevator\", \"SRNoAlcoholInMiniBar\",\n",
        "    \"SRQuietRoom\", \"target\"\n",
        "]\n",
        "binary_features"
      ],
      "metadata": {
        "id": "653gKSBzkiz8"
      },
      "execution_count": null,
      "outputs": []
    },
    {
      "cell_type": "code",
      "source": [
        "encoded = df_scaled.columns[df_scaled.columns.str.startswith('onehotencoder')].tolist()\n",
        "encoded"
      ],
      "metadata": {
        "id": "04twD2CXmD2M"
      },
      "execution_count": null,
      "outputs": []
    },
    {
      "cell_type": "code",
      "source": [
        "chi_features = ['SRHighFloor',\n",
        " 'SRLowFloor',\n",
        " 'SRAccessibleRoom',\n",
        " 'SRMediumFloor',\n",
        " 'SRBathtub',\n",
        " 'SRShower',\n",
        " 'SRCrib',\n",
        " 'SRKingSizeBed',\n",
        " 'SRTwinBed',\n",
        " 'SRNearElevator',\n",
        " 'SRAwayFromElevator',\n",
        " #'SRNoAlcoholInMiniBar',\n",
        " 'SRQuietRoom','onehotencoder__Nationality_',\n",
        " 'onehotencoder__Nationality_DEU',\n",
        " 'onehotencoder__Nationality_FRA',\n",
        " 'onehotencoder__Nationality_PRT',\n",
        " 'onehotencoder__MarketSegment_Aviation',\n",
        " 'onehotencoder__MarketSegment_Complementary',\n",
        " 'onehotencoder__MarketSegment_Corporate',\n",
        " 'onehotencoder__MarketSegment_Direct',\n",
        " 'onehotencoder__MarketSegment_Groups',\n",
        " 'onehotencoder__MarketSegment_Other',\n",
        " 'onehotencoder__MarketSegment_Travel Agent/Operator',\n",
        " 'onehotencoder__DistributionChannel_Corporate',\n",
        " 'onehotencoder__DistributionChannel_Direct',\n",
        " 'onehotencoder__DistributionChannel_GDS Systems',\n",
        " 'onehotencoder__DistributionChannel_Travel Agent/Operator']\n",
        "chi_features"
      ],
      "metadata": {
        "id": "d2KE-iOTmuPv"
      },
      "execution_count": null,
      "outputs": []
    },
    {
      "cell_type": "code",
      "source": [
        "X = df_scaled[chi_features]\n",
        "y = df_scaled['target']\n",
        "\n",
        "# Split the dataset into training and testing sets\n",
        "X_train, X_test, y_train, y_test = train_test_split(X, y, test_size=0.2, random_state=42)\n",
        "\n"
      ],
      "metadata": {
        "id": "UpHkql0eqho9"
      },
      "execution_count": null,
      "outputs": []
    },
    {
      "cell_type": "code",
      "source": [
        "chi_scores = chi2(df_scaled[chi_features], df_scaled['target'])\n",
        "chi_scores"
      ],
      "metadata": {
        "id": "HHrmDs5CnBR-"
      },
      "execution_count": null,
      "outputs": []
    },
    {
      "cell_type": "code",
      "source": [
        "p_values = pd.Series(chi_scores[1],index = chi_features)\n",
        "p_values.sort_values(ascending = False , inplace = True)"
      ],
      "metadata": {
        "id": "JXsYFcFNt5bS"
      },
      "execution_count": null,
      "outputs": []
    },
    {
      "cell_type": "code",
      "source": [
        "plt.figure(figsize=(20,10))\n",
        "p_values.plot.bar()"
      ],
      "metadata": {
        "id": "qzuUH1iNt7o0"
      },
      "execution_count": null,
      "outputs": []
    },
    {
      "cell_type": "code",
      "source": [],
      "metadata": {
        "id": "4uDY70o4ORsD"
      },
      "execution_count": null,
      "outputs": []
    },
    {
      "cell_type": "markdown",
      "metadata": {
        "id": "Uu7Hh0n5Lx--"
      },
      "source": [
        "## PCA <a class=\"anchor\"><a id='PCA'></a></b><br>"
      ]
    },
    {
      "cell_type": "code",
      "execution_count": null,
      "metadata": {
        "id": "PYBcRTErLwkl"
      },
      "outputs": [],
      "source": [
        "df_pca = df_scaled.copy()"
      ]
    },
    {
      "cell_type": "code",
      "execution_count": null,
      "metadata": {
        "id": "G2wNgVRgO7Lg"
      },
      "outputs": [],
      "source": [
        "numeric_cols = df_pca.select_dtypes(include=[np.number]).columns"
      ]
    },
    {
      "cell_type": "code",
      "execution_count": null,
      "metadata": {
        "id": "7xAtesrQMc20"
      },
      "outputs": [],
      "source": [
        "pca = PCA()\n",
        "pca_feat = pca.fit_transform(df_pca[numeric_cols])\n",
        "pca_feat_names = [f\"PC{i}\" for i in range(pca.n_components_)]\n",
        "pca_df = pd.DataFrame(pca_feat, index=df_pca.index, columns=pca_feat_names)"
      ]
    },
    {
      "cell_type": "code",
      "execution_count": null,
      "metadata": {
        "id": "PN8kf5GOTSST"
      },
      "outputs": [],
      "source": [
        "pca_df"
      ]
    },
    {
      "cell_type": "code",
      "execution_count": null,
      "metadata": {
        "id": "9qn3zbvRTXid"
      },
      "outputs": [],
      "source": [
        "# Output PCA table\n",
        "pd.DataFrame(\n",
        "    {\"Eigenvalue\": pca.explained_variance_,\n",
        "     \"Difference\": np.insert(np.diff(pca.explained_variance_), 0, 0),\n",
        "     \"Proportion\": pca.explained_variance_ratio_,\n",
        "     \"Cumulative\": np.cumsum(pca.explained_variance_ratio_)},\n",
        "    index=range(1, pca.n_components_ + 1)\n",
        ")"
      ]
    },
    {
      "cell_type": "code",
      "execution_count": null,
      "metadata": {
        "id": "zKdLaMGvTYMm"
      },
      "outputs": [],
      "source": [
        "fig, (ax1, ax2) = plt.subplots(1, 2, figsize=(15, 5))\n",
        "\n",
        "# draw plots\n",
        "ax1.plot(pca.explained_variance_, marker=\".\", markersize=12)\n",
        "ax2.plot(pca.explained_variance_ratio_, marker=\".\", markersize=12, label=\"Proportion\")\n",
        "ax2.plot(np.cumsum(pca.explained_variance_ratio_), marker=\".\", markersize=12, linestyle=\"--\", label=\"Cumulative\")\n",
        "\n",
        "# customizations\n",
        "ax2.legend()\n",
        "ax1.set_title(\"Scree Plot\", fontsize=14)\n",
        "ax2.set_title(\"Variance Explained\", fontsize=14)\n",
        "ax1.set_ylabel(\"Eigenvalue\")\n",
        "ax2.set_ylabel(\"Proportion\")\n",
        "ax1.set_xlabel(\"Components\")\n",
        "ax2.set_xlabel(\"Components\")\n",
        "ax1.set_xticks(range(0, pca.n_components_, 2))\n",
        "ax1.set_xticklabels(range(1, pca.n_components_ + 1, 2))\n",
        "ax2.set_xticks(range(0, pca.n_components_, 2))\n",
        "ax2.set_xticklabels(range(1, pca.n_components_ + 1, 2))\n",
        "\n",
        "plt.show()"
      ]
    },
    {
      "cell_type": "code",
      "execution_count": null,
      "metadata": {
        "id": "FahLRR6-TdbI"
      },
      "outputs": [],
      "source": [
        "# Concatenate the original numeric features with PCA components\n",
        "combined_df = pd.concat([df_pca[numeric_cols], pca_df], axis=1)\n",
        "\n",
        "# Calculate the correlation between original features and PCA components\n",
        "loadings = combined_df.corr().loc[numeric_cols, pca_feat_names]"
      ]
    },
    {
      "cell_type": "code",
      "execution_count": null,
      "metadata": {
        "id": "cpV5zIWKTr3j"
      },
      "outputs": [],
      "source": [
        "def _color_red_or_green(val):\n",
        "    if val < -0.45:\n",
        "        color = 'background-color: red'\n",
        "    elif val > 0.45:\n",
        "        color = 'background-color: green'\n",
        "    else:\n",
        "        color = ''\n",
        "    return color\n",
        "\n",
        "# Apply the styling to the loadings DataFrame\n",
        "styled_loadings = loadings.style.applymap(_color_red_or_green)\n",
        "display(styled_loadings)"
      ]
    },
    {
      "cell_type": "code",
      "execution_count": null,
      "metadata": {
        "id": "X_FV_pNKWd6c"
      },
      "outputs": [],
      "source": [
        "def get_redundant_pairs(df):\n",
        "    '''Get diagonal and lower triangular pairs of correlation matrix'''\n",
        "    pairs_to_drop = set()\n",
        "    cols = df.columns\n",
        "    for i in range(0, df.shape[1]):\n",
        "        for j in range(0, i+1):\n",
        "            pairs_to_drop.add((cols[i], cols[j]))\n",
        "    return pairs_to_drop\n",
        "\n",
        "def get_top_abs_correlations(df, n=5):\n",
        "    au_corr = df.corr().abs().unstack()\n",
        "    labels_to_drop = get_redundant_pairs(df)\n",
        "    au_corr = au_corr.drop(labels=labels_to_drop).sort_values(ascending=False)\n",
        "    return au_corr[0:n]\n",
        "\n",
        "# Apply the correlation analysis on the PCA components\n",
        "print(\"Top Absolute Correlations among PCA Components\")\n",
        "print(get_top_abs_correlations(pca_df, 15))\n"
      ]
    },
    {
      "cell_type": "code",
      "execution_count": null,
      "metadata": {
        "id": "HMtZqI8T5QqP"
      },
      "outputs": [],
      "source": []
    },
    {
      "cell_type": "markdown",
      "source": [
        "##Reduced PCA"
      ],
      "metadata": {
        "id": "urzmsFLBxJPM"
      }
    },
    {
      "cell_type": "code",
      "execution_count": null,
      "metadata": {
        "id": "ZFJMKwKvqDDz"
      },
      "outputs": [],
      "source": [
        "#Manual outlier removal\n",
        "#df = df_scaled\n",
        "df_outlier=df.loc[ (df['Age'] < 85) & (df['AverageLeadTime'] < 350)& (df['OtherRevenue'] < 1500)  & (df['LodgingRevenue'] < 5000) & (df['PersonsNights'] < 30)&(df['RoomNights'] < 20)&(df['OtherRevenue'] < 4000)&(df['BookingsCheckedIn'] < 3)&(df['BookingsCanceled'] < 6)]\n",
        "print('Percentage of data kept after removing outliers:', np.round(df_outlier.shape[0] / df.shape[0], 4))"
      ]
    },
    {
      "cell_type": "code",
      "source": [
        "# Define the numeric features\n",
        "numeric_features = ['Age', 'DaysSinceCreation', 'AverageLeadTime', 'LodgingRevenue',\n",
        "                    'OtherRevenue', 'BookingsCanceled', 'BookingsNoShowed',\n",
        "                    'BookingsCheckedIn', 'PersonsNights', 'RoomNights']\n",
        "\n",
        "# Set up the figure and axis with a larger figure size\n",
        "fig, axes = plt.subplots(nrows=len(numeric_features), figsize=(12, 30))\n",
        "\n",
        "# Loop through each numeric feature and plot a box plot\n",
        "for i, feature in enumerate(numeric_features):\n",
        "    sns.boxplot(x=df_outlier[feature], ax=axes[i])\n",
        "    axes[i].set_title(f'Box plot of {feature}')\n",
        "    axes[i].set_xlabel(feature)\n",
        "\n",
        "plt.tight_layout()\n",
        "plt.show()"
      ],
      "metadata": {
        "id": "kT8E6IAzhbBw"
      },
      "execution_count": null,
      "outputs": []
    },
    {
      "cell_type": "code",
      "source": [
        "df=df_outlier.copy()"
      ],
      "metadata": {
        "id": "0ObzRTYXiPcc"
      },
      "execution_count": null,
      "outputs": []
    },
    {
      "cell_type": "code",
      "source": [
        "df['tb']=(df['BookingsCheckedIn']+df['BookingsCanceled']+df['BookingsNoShowed'])"
      ],
      "metadata": {
        "id": "np4yoYmkiY8C"
      },
      "execution_count": null,
      "outputs": []
    },
    {
      "cell_type": "code",
      "source": [
        "df['tb'].describe()"
      ],
      "metadata": {
        "id": "ll10sBURiclY"
      },
      "execution_count": null,
      "outputs": []
    },
    {
      "cell_type": "code",
      "source": [
        "df=df[df['tb']!=0]\n",
        "df['tb'].describe()"
      ],
      "metadata": {
        "id": "UxgX2f4Lif2f"
      },
      "execution_count": null,
      "outputs": []
    },
    {
      "cell_type": "code",
      "source": [
        "df.drop('tb',axis=1,inplace=True)"
      ],
      "metadata": {
        "id": "vI6XgJwAikw3"
      },
      "execution_count": null,
      "outputs": []
    },
    {
      "cell_type": "code",
      "source": [
        "df['BookingsRealized']=(df['BookingsCheckedIn']/(df['BookingsCheckedIn']+df['BookingsCanceled']+df['BookingsNoShowed']))"
      ],
      "metadata": {
        "id": "otD6AqXgip8c"
      },
      "execution_count": null,
      "outputs": []
    },
    {
      "cell_type": "code",
      "source": [
        "df['BookingsRealized'].describe()"
      ],
      "metadata": {
        "id": "ycv_LcZxitTT"
      },
      "execution_count": null,
      "outputs": []
    },
    {
      "cell_type": "code",
      "source": [
        "df['TotalRevenue']=(df['LodgingRevenue']+df['OtherRevenue'])"
      ],
      "metadata": {
        "id": "mleOXJKriwqc"
      },
      "execution_count": null,
      "outputs": []
    },
    {
      "cell_type": "code",
      "source": [
        "df[df['TotalRevenue']==0].describe()"
      ],
      "metadata": {
        "id": "LTZNhLvui7O-"
      },
      "execution_count": null,
      "outputs": []
    },
    {
      "cell_type": "markdown",
      "source": [],
      "metadata": {
        "id": "fHnMKM5ai1B-"
      }
    },
    {
      "cell_type": "code",
      "source": [
        "df=df[df['TotalRevenue']!=0]"
      ],
      "metadata": {
        "id": "N1zwhM59jAw5"
      },
      "execution_count": null,
      "outputs": []
    },
    {
      "cell_type": "code",
      "source": [
        "df.columns"
      ],
      "metadata": {
        "id": "escFJGsejBbK"
      },
      "execution_count": null,
      "outputs": []
    },
    {
      "cell_type": "code",
      "source": [
        "#Remove irrelevant variables\n",
        "#df.drop(['NameHash','DocIDHash','MarketSegment'],axis=1,inplace=True)"
      ],
      "metadata": {
        "id": "AaPOdaOLjK2e"
      },
      "execution_count": null,
      "outputs": []
    },
    {
      "cell_type": "code",
      "source": [
        "# Discretize Age column\n",
        "df['AgeBins'] = pd.cut(x=df['Age'], bins=[0, 19, 29, 39, 49, 59, 99], labels=['<20','20-29','30-39','40-49','50-59','>=60'])\n",
        "df.drop('Age',axis=1,inplace=True)"
      ],
      "metadata": {
        "id": "5Aeerl-ijTcC"
      },
      "execution_count": null,
      "outputs": []
    },
    {
      "cell_type": "code",
      "source": [
        "#iso = pd.read_csv('/content/drive/MyDrive/all tutorials/iso.csv')\n",
        "iso = pd.read_csv('/content/iso.csv')"
      ],
      "metadata": {
        "id": "5CHANLJrjWoa"
      },
      "execution_count": null,
      "outputs": []
    },
    {
      "cell_type": "code",
      "source": [
        "iso.drop(['name', 'alpha-2', 'country-code', 'iso_3166-2',\n",
        "                 'intermediate-region', 'region-code',\n",
        "                 'sub-region-code', 'intermediate-region-code'], axis=1, inplace=True)\n",
        "\n",
        "iso.rename(columns={\"alpha-3\": \"Nationality\"}, inplace=True)\n",
        "iso.rename(columns={\"region\": \"Region\"}, inplace=True)\n",
        "iso.head()"
      ],
      "metadata": {
        "id": "HzqvpDC5j6ec"
      },
      "execution_count": null,
      "outputs": []
    },
    {
      "cell_type": "code",
      "source": [
        "iso['Region'].value_counts()"
      ],
      "metadata": {
        "id": "lQvKJfUckCC_"
      },
      "execution_count": null,
      "outputs": []
    },
    {
      "cell_type": "code",
      "source": [
        "df = pd.merge(df, iso[['Nationality','Region']], on='Nationality')"
      ],
      "metadata": {
        "id": "WgTPWnKVkG4O"
      },
      "execution_count": null,
      "outputs": []
    },
    {
      "cell_type": "code",
      "source": [
        "df = df.drop('Nationality',axis=1)"
      ],
      "metadata": {
        "id": "pjFzSYzlkRUJ"
      },
      "execution_count": null,
      "outputs": []
    },
    {
      "cell_type": "code",
      "source": [
        "df.columns"
      ],
      "metadata": {
        "id": "ZZQFTW5akXUY"
      },
      "execution_count": null,
      "outputs": []
    },
    {
      "cell_type": "code",
      "source": [
        "df['DistributionChannel'].value_counts().plot(kind='bar')"
      ],
      "metadata": {
        "id": "BsQi_d8ykZbl"
      },
      "execution_count": null,
      "outputs": []
    },
    {
      "cell_type": "code",
      "source": [
        "dfo=df.copy()"
      ],
      "metadata": {
        "id": "ZB33jYDXkd76"
      },
      "execution_count": null,
      "outputs": []
    },
    {
      "cell_type": "code",
      "source": [
        "df = df.drop(['LodgingRevenue','OtherRevenue'],axis=1)"
      ],
      "metadata": {
        "id": "gLnlN1z1kh_3"
      },
      "execution_count": null,
      "outputs": []
    },
    {
      "cell_type": "code",
      "source": [
        "df=df.drop(['BookingsCanceled','BookingsNoShowed', 'BookingsCheckedIn'],axis=1)"
      ],
      "metadata": {
        "id": "SBuaUAwTkltv"
      },
      "execution_count": null,
      "outputs": []
    },
    {
      "cell_type": "code",
      "source": [
        "df.columns"
      ],
      "metadata": {
        "id": "F2hdU95Zkodf"
      },
      "execution_count": null,
      "outputs": []
    },
    {
      "cell_type": "code",
      "source": [
        "categorical_features = ['DistributionChannel', 'Region','AgeBins']\n",
        "metric_features = ['DaysSinceCreation', 'AverageLeadTime', 'BookingsRealized', 'PersonsNights', 'RoomNights','SRHighFloor', 'SRLowFloor', 'SRAccessibleRoom',\n",
        "       'SRMediumFloor', 'SRBathtub', 'SRShower', 'SRCrib', 'SRKingSizeBed',\n",
        "       'SRTwinBed', 'SRNearElevator', 'SRAwayFromElevator',\n",
        "       'SRNoAlcoholInMiniBar', 'SRQuietRoom', 'TotalRevenue']"
      ],
      "metadata": {
        "id": "36BzPJ3HkqzE"
      },
      "execution_count": null,
      "outputs": []
    },
    {
      "cell_type": "code",
      "source": [
        "data_minmax = df.copy()\n",
        "scaler = MinMaxScaler()\n",
        "scaled_feat = scaler.fit_transform(data_minmax[metric_features])\n",
        "data_minmax[metric_features] = scaled_feat.copy()\n",
        "data_minmax[metric_features].head()"
      ],
      "metadata": {
        "id": "epzPSZaekvbD"
      },
      "execution_count": null,
      "outputs": []
    },
    {
      "cell_type": "code",
      "source": [
        "data=df.copy()\n",
        "df=data_minmax.copy()"
      ],
      "metadata": {
        "id": "FZ8g-tH9kx9E"
      },
      "execution_count": null,
      "outputs": []
    },
    {
      "cell_type": "code",
      "source": [
        "df=data_minmax.copy()"
      ],
      "metadata": {
        "id": "_2-U-WoXk18R"
      },
      "execution_count": null,
      "outputs": []
    },
    {
      "cell_type": "code",
      "source": [
        "df.head(5)"
      ],
      "metadata": {
        "id": "LiLvYH1sk4Bg"
      },
      "execution_count": null,
      "outputs": []
    },
    {
      "cell_type": "code",
      "source": [
        "# Define the numeric features\n",
        "numeric_features = ['Age', 'DaysSinceCreation', 'AverageLeadTime', 'LodgingRevenue',\n",
        "                    'OtherRevenue', 'BookingsCanceled', 'BookingsNoShowed',\n",
        "                    'BookingsCheckedIn', 'PersonsNights', 'RoomNights']\n",
        "\n"
      ],
      "metadata": {
        "id": "L1kh6_qSk-rN"
      },
      "execution_count": null,
      "outputs": []
    },
    {
      "cell_type": "code",
      "source": [
        "# Get the list of all columns in the dataframe\n",
        "all_features = df.columns.tolist()\n",
        "\n",
        "# Identify features that are not in either categorical or numerical features list\n",
        "features_to_remove = [feature for feature in all_features if feature not in categorical_features and feature not in numeric_features]\n",
        "\n",
        "# Remove features not in either list from the dataframe\n",
        "df = df.drop(columns=features_to_remove)\n",
        "\n",
        "# Display the updated dataframe\n",
        "df.head()"
      ],
      "metadata": {
        "id": "QFNYGq44lCCo"
      },
      "execution_count": null,
      "outputs": []
    },
    {
      "cell_type": "code",
      "source": [
        "df = pd.get_dummies(df, columns=['AgeBins','Region','DistributionChannel'], drop_first=True, dtype=float)\n",
        "dfo= pd.get_dummies(dfo, columns=['AgeBins','Region','DistributionChannel'], drop_first=True, dtype=float)"
      ],
      "metadata": {
        "id": "uUDYaEpGmSlZ"
      },
      "execution_count": null,
      "outputs": []
    },
    {
      "cell_type": "code",
      "source": [
        "df"
      ],
      "metadata": {
        "id": "Dxu0_kVxmfaQ"
      },
      "execution_count": null,
      "outputs": []
    },
    {
      "cell_type": "code",
      "source": [
        "from sklearn.decomposition import PCA\n",
        "import numpy as np\n",
        "import pandas as pd\n",
        "\n",
        "# Initialize PCA, assuming you want to keep all components for initial analysis\n",
        "pca = PCA()\n",
        "pca.fit(df)\n",
        "\n",
        "# Create a DataFrame to show explained variance\n",
        "pca_ds = pd.DataFrame({'Component': range(1, len(pca.explained_variance_ratio_)+1),\n",
        "                       'Variance explained': pca.explained_variance_ratio_,\n",
        "                       'Cumulative variance explained': np.cumsum(pca.explained_variance_ratio_)})\n",
        "print(pca_ds)\n"
      ],
      "metadata": {
        "id": "Iecm2miGmi-7"
      },
      "execution_count": null,
      "outputs": []
    },
    {
      "cell_type": "code",
      "source": [
        "# PCA visualization with a valid number of components\n",
        "pca2 = PCA(n_components=14)  # Adjusted to match the dataset size\n",
        "pca2.fit(df)\n",
        "X_pca2 = pca2.transform(df)\n",
        "\n",
        "# Scatter plot of the first two principal components\n",
        "plt.scatter(X_pca2[:, 0], X_pca2[:, 1], edgecolor='none', alpha=0.5, cmap='viridis')\n",
        "plt.xlabel('Component 1')\n",
        "plt.ylabel('Component 2')\n",
        "plt.colorbar()\n"
      ],
      "metadata": {
        "id": "VDY5j-3Amn3E"
      },
      "execution_count": null,
      "outputs": []
    },
    {
      "cell_type": "code",
      "source": [
        "# PCA visualization\n",
        "pca2 = PCA(n_components=min(df.shape[0], df.shape[1]))\n",
        "pca2.fit(df)\n",
        "X_pca2 = pca2.transform(df)\n",
        "print(X_pca2.shape)\n",
        "\n",
        "# Scatter plot of the two Principal Components by the \"target\" to see if there is any pattern\n",
        "plt.scatter(X_pca2[:, 0], X_pca2[:, 1], edgecolor='none', alpha=0.5, cmap='viridis')\n",
        "plt.xlabel('Component 1')\n",
        "plt.ylabel('Component 2')\n",
        "plt.colorbar();\n"
      ],
      "metadata": {
        "id": "9EkcNTPJmshp"
      },
      "execution_count": null,
      "outputs": []
    },
    {
      "cell_type": "code",
      "source": [
        "# Plot the cumulative explained variance\n",
        "fig , ax = plt.subplots(figsize=(5, 4))\n",
        "plt.plot(np.cumsum(pca.explained_variance_ratio_))\n",
        "\n",
        "# Decoration\n",
        "sns.despine()\n",
        "plt.xlabel('Number of components/dimensions')\n",
        "plt.ylabel('Variance explained')\n",
        "plt.rc('axes')\n",
        "plt.title('Explained variance by components')"
      ],
      "metadata": {
        "id": "Y6VEXsmZnEAy"
      },
      "execution_count": null,
      "outputs": []
    },
    {
      "cell_type": "code",
      "source": [
        "top_k = 20\n",
        "top_q = .50\n",
        "top_pc = 20\n",
        "\n",
        "# PCA factor loadings\n",
        "selected_features = df.columns\n",
        "df_c = pd.DataFrame(pca.components_, columns=selected_features).T\n",
        "\n",
        "print(\"Factor Loadings for the 1. component \\n(explains {0:.2f} of the variance)\".format(df.iloc[0,0]))\n",
        "print('='*40,'\\n')\n",
        "print('Top {} highest'.format(top_k))\n",
        "print('-'*40)\n",
        "print(df_c.iloc[:,0].sort_values(ascending=False)[:top_k], '\\n')\n",
        "\n",
        "print('Top {} lowest'.format(top_k))\n",
        "print('-'*40)\n",
        "print(df_c.iloc[:,0].sort_values()[:top_k])"
      ],
      "metadata": {
        "id": "2RTSu9gJnJAo"
      },
      "execution_count": null,
      "outputs": []
    },
    {
      "cell_type": "code",
      "source": [
        "# Apply the dimensionality reduction through PCA (19 components)\n",
        "pca_reduced = PCA(n_components=min(df.shape[0], df.shape[1]))\n",
        "pca_reduced.fit(df)\n",
        "X_pca_reduced = pca_reduced.transform(df)\n"
      ],
      "metadata": {
        "id": "7RDbDV1mnUrs"
      },
      "execution_count": null,
      "outputs": []
    },
    {
      "cell_type": "code",
      "source": [
        "# Apply the Elbow method to select K\n",
        "km = KMeans()\n",
        "visualizer = KElbowVisualizer(km, k=(1,15), random_state=123)\n",
        "visualizer.fit(X_pca_reduced)\n",
        "visualizer.show()"
      ],
      "metadata": {
        "id": "FqTOx92jnkTR"
      },
      "execution_count": null,
      "outputs": []
    },
    {
      "cell_type": "code",
      "source": [
        "# Try different setups to find the best silhouette score\n",
        "sil = []\n",
        "for k in range(2, 12):\n",
        "    km = KMeans(n_clusters = k, random_state=42).fit(df)\n",
        "    labels = km.labels_\n",
        "    sil.append(silhouette_score(df, labels, metric = 'euclidean'))\n",
        "\n",
        "# Plot Elbow Curve\n",
        "fig , ax = plt.subplots(figsize=(5, 4))\n",
        "plt.plot(range(2, 12), sil, 'bx-')\n",
        "sns.despine()\n",
        "fmt = \"{x:,.2f}\"\n",
        "tick = ticker.StrMethodFormatter(fmt)\n",
        "ax.yaxis.set_major_formatter(tick)\n",
        "plt.xlabel('K')\n",
        "plt.ylabel('Silhouette score')\n",
        "plt.rc('axes')\n",
        "ax.xaxis.set_major_locator(ticker.MaxNLocator(integer=True))\n",
        "plt.title('Silhouette method - Reduced dimensionality')"
      ],
      "metadata": {
        "id": "G_56fpo6nnQ5"
      },
      "execution_count": null,
      "outputs": []
    },
    {
      "cell_type": "code",
      "source": [
        "K=6\n",
        "kmeans = KMeans(n_clusters=K, random_state=123)\n",
        "allDistances = kmeans.fit_transform(X_pca_reduced)\n",
        "y_kmeans = kmeans.predict(X_pca_reduced)"
      ],
      "metadata": {
        "id": "RYteyQLjoF_5"
      },
      "execution_count": null,
      "outputs": []
    },
    {
      "cell_type": "code",
      "source": [
        "visualizer = InterclusterDistance(kmeans)\n",
        "visualizer.fit(X_pca_reduced)\n",
        "visualizer.show()"
      ],
      "metadata": {
        "id": "1ula2AJhqknK"
      },
      "execution_count": null,
      "outputs": []
    },
    {
      "cell_type": "code",
      "source": [
        "# Count observations per cluster\n",
        "freqByCluster = df.groupby(y_kmeans).size()\n",
        "\n",
        "# Draw\n",
        "fig, ax = plt.subplots(figsize=(7,5))\n",
        "g = sns.countplot(x=y_kmeans, color='grey')\n",
        "\n",
        "# Decoration\n",
        "fmt = \"{x:,.0f}\"\n",
        "tick = ticker.StrMethodFormatter(fmt)\n",
        "ax.yaxis.set_major_formatter(tick)\n",
        "for index,data in enumerate(freqByCluster):\n",
        "    plt.text(x=index-0.2 , y=data+50 , s=f\"{data}\" , fontdict=dict(fontsize=plots_barTexts_fontSize))\n",
        "sns.despine()\n",
        "plt.title(\"Cluster cardinality\", fontsize=plots_Title_fontSize)\n",
        "plt.xlabel(\"Cluster\")\n",
        "plt.ylabel(\"Frequency in cluster\")\n",
        "plt.rc('axes', labelsize=subPlots_label_fontSize)"
      ],
      "metadata": {
        "id": "ybmb8k0_qol2"
      },
      "execution_count": null,
      "outputs": []
    },
    {
      "cell_type": "code",
      "source": [
        "# Plot clusters magnitude\n",
        "\n",
        "df['distanceToCentroid'] = np.min(allDistances,axis=1)\n",
        "magnitude = df['distanceToCentroid'].groupby(y_kmeans).sum()\n",
        "df = df.drop(columns=['distanceToCentroid'])\n",
        "\n",
        "# Draw\n",
        "fig, ax = plt.subplots(figsize=(7,5))\n",
        "g = sns.barplot(x=magnitude.index, y=magnitude.values, color='grey')\n",
        "\n",
        "# Decoration\n",
        "fmt = \"{x:,.0f}\"\n",
        "tick = ticker.StrMethodFormatter(fmt)\n",
        "ax.yaxis.set_major_formatter(tick)\n",
        "for index,data in enumerate(magnitude):\n",
        "    plt.text(x=index-0.2 , y=data+50 , s=f\"{data:,.0f}\" , fontdict=dict(fontsize=plots_barTexts_fontSize))\n",
        "sns.despine()\n",
        "plt.title(\"Cluster magnitude\", fontsize=plots_Title_fontSize)\n",
        "plt.xlabel(\"Cluster\")\n",
        "plt.ylabel(\"Sum of distances to centroid\")\n",
        "plt.rc('axes', labelsize=subPlots_label_fontSize)"
      ],
      "metadata": {
        "id": "bHyShNmVrtz6"
      },
      "execution_count": null,
      "outputs": []
    },
    {
      "cell_type": "code",
      "source": [
        "# Plot cardinality vs magnitude\n",
        "\n",
        "# Draw\n",
        "fig, ax = plt.subplots(figsize=(6,4))\n",
        "g = sns.regplot(x=freqByCluster, y=magnitude, scatter=True, seed=123,truncate=False, ci=None)\n",
        "\n",
        "# Decoration\n",
        "fmt = \"{x:,.0f}\"\n",
        "tick = ticker.StrMethodFormatter(fmt)\n",
        "ax.xaxis.set_major_formatter(tick)\n",
        "ax.yaxis.set_major_formatter(tick)\n",
        "sns.despine()\n",
        "plt.title(\"Cardinality vs Magnitude\", fontsize=plots_Title_fontSize)\n",
        "plt.xlabel(\"Cardinality\")\n",
        "plt.ylabel(\"Magnitude\")\n",
        "plt.rc('axes', labelsize=subPlots_label_fontSize)"
      ],
      "metadata": {
        "id": "ZjwShIj5rymS"
      },
      "execution_count": null,
      "outputs": []
    },
    {
      "cell_type": "code",
      "source": [
        "means = pd.DataFrame(dfo.groupby(y_kmeans).mean())\n",
        "means.transpose()"
      ],
      "metadata": {
        "id": "s2k1s0Wyr3pT"
      },
      "execution_count": null,
      "outputs": []
    },
    {
      "cell_type": "code",
      "source": [
        "(((means-dfo.mean())/dfo.mean())*100).T"
      ],
      "metadata": {
        "id": "-ejOTuurr7-w"
      },
      "execution_count": null,
      "outputs": []
    },
    {
      "cell_type": "markdown",
      "metadata": {
        "id": "kJGVNkoFQbkl"
      },
      "source": [
        "# Cluster Segmentation <a class=\"anchor\"><a id='K_Seg'></a></b><br>"
      ]
    },
    {
      "cell_type": "code",
      "execution_count": null,
      "metadata": {
        "id": "bl3wxOH9jBzM"
      },
      "outputs": [],
      "source": [
        "def random_centroids(data, k):\n",
        "    centroids = []\n",
        "    for i in range(k):\n",
        "        centroid = data.apply(lambda x: float(x.sample())) # Gets a random centroid from each column\n",
        "        centroids.append(centroid)\n",
        "\n",
        "    return pd.concat(centroids, axis = 1)"
      ]
    },
    {
      "cell_type": "code",
      "execution_count": null,
      "metadata": {
        "id": "39Pp52QUjG2Y"
      },
      "outputs": [],
      "source": [
        "df"
      ]
    },
    {
      "cell_type": "code",
      "execution_count": null,
      "metadata": {
        "id": "S9ztycMTeGoW"
      },
      "outputs": [],
      "source": [
        "df.shape"
      ]
    },
    {
      "cell_type": "code",
      "execution_count": null,
      "metadata": {
        "id": "iQBa5IQoeJlM"
      },
      "outputs": [],
      "source": [
        "print(df.isnull().sum())"
      ]
    },
    {
      "cell_type": "code",
      "execution_count": null,
      "metadata": {
        "id": "nUwZ4TvweRhX"
      },
      "outputs": [],
      "source": [
        "# select Age and LodgingRevenue columns\n",
        "X = df.iloc[:,[1,4]].values"
      ]
    },
    {
      "cell_type": "code",
      "execution_count": null,
      "metadata": {
        "id": "XqkxkfPLeh8K"
      },
      "outputs": [],
      "source": [
        "print(X)"
      ]
    },
    {
      "cell_type": "code",
      "execution_count": null,
      "metadata": {
        "id": "vGeucJdDenAZ"
      },
      "outputs": [],
      "source": [
        "X.shape"
      ]
    },
    {
      "cell_type": "code",
      "execution_count": null,
      "metadata": {
        "id": "EsRMULtfesP1"
      },
      "outputs": [],
      "source": [
        "#Choosing the number of clusters\n",
        "\n",
        "wscc = []\n",
        "\n",
        "for i in range(1, 12):\n",
        "    kmeans = KMeans(n_clusters=i, init='k-means++', random_state=45)\n",
        "    kmeans.fit(X)\n",
        "\n",
        "    wscc.append(kmeans.inertia_)"
      ]
    },
    {
      "cell_type": "code",
      "execution_count": null,
      "metadata": {
        "id": "HgpmaBp7exTr"
      },
      "outputs": [],
      "source": [
        "# Finding WCSS value for different number of clusters\n",
        "wcss = []\n",
        "\n",
        "for i in range(1, 12):\n",
        "    kmeans = KMeans(n_clusters=i, init='k-means++', random_state=42)\n",
        "    kmeans.fit(X)\n",
        "    wcss.append(kmeans.inertia_)\n",
        "\n",
        "# Plot the elbow graph\n",
        "sns.set()\n",
        "plt.plot(range(1, 12), wcss)\n",
        "plt.title(\"Kaiser's criterion Elbow point\")\n",
        "plt.xlabel('Number of Clusters')\n",
        "plt.ylabel('WCSS')\n",
        "plt.show()\n"
      ]
    },
    {
      "cell_type": "code",
      "execution_count": null,
      "metadata": {
        "id": "gEMHj0qffAq7"
      },
      "outputs": [],
      "source": [
        "kmeans = KMeans(n_clusters=4, init='k-means++',random_state=0)\n",
        "\n",
        "# return a lebel for each data point based on their cluster\n",
        "\n",
        "Y = kmeans.fit_predict(X)\n",
        "\n",
        "print(Y)"
      ]
    },
    {
      "cell_type": "code",
      "execution_count": null,
      "metadata": {
        "id": "ino6fzxkfpzk"
      },
      "outputs": [],
      "source": [
        "# plotting all the clusters and their Centroids\n",
        "\n",
        "plt.figure(figsize=(8,8))\n",
        "plt.scatter(X[Y==0,0], X[Y==0,1], s=50, c='green', label='Cluster 1')\n",
        "plt.scatter(X[Y==1,0], X[Y==1,1], s=50, c='red', label='Cluster 2')\n",
        "plt.scatter(X[Y==2,0], X[Y==2,1], s=50, c='yellow', label='Cluster 3')\n",
        "plt.scatter(X[Y==3,0], X[Y==3,1], s=50, c='violet', label='Cluster 4')\n",
        "\n",
        "\n",
        "# plot the centroids\n",
        "plt.scatter(kmeans.cluster_centers_[:,0], kmeans.cluster_centers_[:,1], s=100, c='cyan', label='Centroids')\n",
        "\n",
        "plt.title('Difference Between Age and Lodging Revenue')\n",
        "plt.xlabel('Age')\n",
        "plt.ylabel('Lodging Revenue')\n",
        "plt.show()"
      ]
    },
    {
      "cell_type": "code",
      "execution_count": null,
      "metadata": {
        "id": "WDzLHPnLfyLO"
      },
      "outputs": [],
      "source": [
        "df.head()\n"
      ]
    },
    {
      "cell_type": "code",
      "execution_count": null,
      "metadata": {
        "id": "JmEXPKnoh24Y"
      },
      "outputs": [],
      "source": [
        "from sklearn.preprocessing import StandardScaler\n",
        "\n",
        "# Select only numeric columns for scaling\n",
        "numeric_columns = df.select_dtypes(include=[np.number]).columns\n",
        "\n",
        "# Scale the numeric columns\n",
        "scaler = StandardScaler()\n",
        "scaled_data = scaler.fit_transform(df[numeric_columns])\n",
        "\n",
        "# Create a DataFrame from the scaled data\n",
        "scaled_df = pd.DataFrame(scaled_data, columns=numeric_columns)\n",
        "\n",
        "# Concatenate non-numeric columns with the scaled DataFrame\n",
        "scaled_df = pd.concat([scaled_df, df[df.columns.difference(numeric_columns)]], axis=1)\n"
      ]
    },
    {
      "cell_type": "code",
      "execution_count": null,
      "metadata": {
        "id": "o0bSqhFDiJ14"
      },
      "outputs": [],
      "source": [
        "## CLUSTERING\n",
        "\n",
        "cluster_nums = [2,3,4,5,6,7]\n",
        "scores = []\n",
        "sum_of_squared_distances = []\n",
        "\n",
        "for cluster_num in cluster_nums:\n",
        "    kmeans = KMeans(cluster_num, random_state=0)\n",
        "    kmeans.fit(scaled_data)\n",
        "    sum_of_squared_distances.append(kmeans.inertia_)\n",
        "    clusters = kmeans.predict(scaled_data)\n",
        "    silhouette = silhouette_score(scaled_data, clusters)\n",
        "    scores.append(silhouette)"
      ]
    },
    {
      "cell_type": "code",
      "execution_count": null,
      "metadata": {
        "id": "c3x8OTo5jQbP"
      },
      "outputs": [],
      "source": [
        "# Silhouette score\n",
        "sns.set_style('whitegrid')\n",
        "plt.ylabel('Silhouette Score')\n",
        "plt.xlabel('Clusters')\n",
        "sns.lineplot(x=cluster_nums,y=scores)\n",
        "plt.title('Silhouette Score by n clusters')"
      ]
    },
    {
      "cell_type": "code",
      "execution_count": null,
      "metadata": {
        "id": "CQq2lmBZp42m"
      },
      "outputs": [],
      "source": [
        "ig, ax = plt.subplots(2, 2, figsize=(15,8))\n",
        "for i in [2, 3, 4, 5]:\n",
        "    '''\n",
        "    Create KMeans instances for different number of clusters\n",
        "    '''\n",
        "    km = KMeans(n_clusters=i, init='k-means++', n_init=10, max_iter=100, random_state=42)\n",
        "    q, mod = divmod(i, 2)\n",
        "    '''\n",
        "    Create SilhouetteVisualizer instance with KMeans instance\n",
        "    Fit the visualizer\n",
        "    '''\n",
        "    visualizer = SilhouetteVisualizer(km, colors='yellowbrick', ax=ax[q-1][mod])\n",
        "    visualizer.fit(scaled_data)"
      ]
    }
  ],
  "metadata": {
    "accelerator": "TPU",
    "colab": {
      "provenance": [],
      "collapsed_sections": [
        "ZkiMTzEQRGNG",
        "HCLHtxtCZZh9",
        "oZLHqSGXNS8W",
        "aknGO_obVhYf",
        "KKrQT8dPqsr-",
        "fCr8G0BgP9x4",
        "pUtB8GFRQGQh",
        "0JnasLDpPwUQ",
        "GGjpA2AyYDlo",
        "M3SUI8tlYRXg",
        "AhNewyavZX0K",
        "b8_rqFzY5Hbs",
        "Uu7Hh0n5Lx--"
      ]
    },
    "kernelspec": {
      "display_name": "Python 3",
      "name": "python3"
    },
    "language_info": {
      "name": "python"
    }
  },
  "nbformat": 4,
  "nbformat_minor": 0
}